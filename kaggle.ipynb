{
 "cells": [
  {
   "cell_type": "markdown",
   "id": "0b36dc7e",
   "metadata": {
    "papermill": {
     "duration": 0.004511,
     "end_time": "2024-01-31T10:29:04.799333",
     "exception": false,
     "start_time": "2024-01-31T10:29:04.794822",
     "status": "completed"
    },
    "tags": []
   },
   "source": [
    "## 1. 处理数据集"
   ]
  },
  {
   "cell_type": "code",
   "execution_count": 1,
   "id": "ca9f21ce",
   "metadata": {
    "execution": {
     "iopub.execute_input": "2024-01-31T10:29:04.809454Z",
     "iopub.status.busy": "2024-01-31T10:29:04.809091Z",
     "iopub.status.idle": "2024-01-31T10:29:11.932263Z",
     "shell.execute_reply": "2024-01-31T10:29:11.931237Z"
    },
    "papermill": {
     "duration": 7.131076,
     "end_time": "2024-01-31T10:29:11.934874",
     "exception": false,
     "start_time": "2024-01-31T10:29:04.803798",
     "status": "completed"
    },
    "tags": []
   },
   "outputs": [
    {
     "name": "stderr",
     "output_type": "stream",
     "text": [
      "/opt/conda/lib/python3.10/site-packages/scipy/__init__.py:146: UserWarning: A NumPy version >=1.16.5 and <1.23.0 is required for this version of SciPy (detected version 1.24.3\n",
      "  warnings.warn(f\"A NumPy version >={np_minversion} and <{np_maxversion}\"\n"
     ]
    }
   ],
   "source": [
    "import numpy as np\n",
    "import pandas as pd\n",
    "import torch\n",
    "from PIL import Image\n",
    "from sklearn.model_selection import train_test_split\n",
    "from torch.utils.data import DataLoader, IterableDataset\n",
    "from torchvision import transforms\n",
    "from transformers import BertTokenizer\n",
    "\n",
    "EMOTION2ID = {\"positive\": 0, \"neutral\": 1, \"negative\": 2, \"null\": 3}\n",
    "ID2EMOTION = {0: \"positive\", 1: \"neutral\", 2: \"negative\", 3: \"null\"}\n",
    "SEED = 42\n",
    "\n",
    "dataset_loc = \"/kaggle/input/lab5-dataset/dataset\"\n",
    "\n",
    "\n",
    "class MultimodalDataset(IterableDataset):\n",
    "    def __init__(self, samples, tokenizer):\n",
    "        self.data = samples\n",
    "        self.tokenizer = tokenizer\n",
    "        self.samples = []\n",
    "\n",
    "        for guid, tag in zip(self.data[\"guid\"], self.data[\"tag\"]):\n",
    "            # load img\n",
    "            img = Image.open(f\"{dataset_loc}/data/{guid}.jpg\")\n",
    "            transform = transforms.Compose(\n",
    "                [\n",
    "                    transforms.Resize(224),\n",
    "                    transforms.CenterCrop(224),\n",
    "                    transforms.ToTensor(),\n",
    "                ]\n",
    "            )\n",
    "            img = transform(img)\n",
    "\n",
    "            # load txt\n",
    "            with open(f\"{dataset_loc}/data/{guid}.txt\", \"r\", encoding=\"gb18030\") as f:\n",
    "                txt = f.read()\n",
    "                txt = txt.replace(\"#\", \"\")\n",
    "\n",
    "            txt = self.tokenizer.encode(txt, add_special_tokens=True)\n",
    "            self.samples.append((guid, txt, img, EMOTION2ID[tag]))\n",
    "\n",
    "    def __len__(self):\n",
    "        return len(self.data)\n",
    "\n",
    "    def __iter__(self):\n",
    "        for bundles in self.samples:\n",
    "            yield bundles\n",
    "\n",
    "\n",
    "class DataHandler:\n",
    "    def __init__(self, batch_size):\n",
    "        self.batch_size = batch_size\n",
    "        self.tokenizer = BertTokenizer.from_pretrained(\n",
    "            \"bert-base-uncased\", mirror=\"bfsu\"\n",
    "        )\n",
    "        self.get_dataloader()\n",
    "\n",
    "    @staticmethod\n",
    "    def _collate_fn(batch):\n",
    "        guid = []\n",
    "        txt = []\n",
    "        img = []\n",
    "        tag = []\n",
    "        max_len = 0\n",
    "        for sample in batch:\n",
    "            guid.append(sample[0])\n",
    "            txt.append(sample[1])\n",
    "            max_len = max(max_len, len(sample[1]))\n",
    "            img.append(np.array(sample[2]).tolist())\n",
    "            tag.append(sample[3])\n",
    "\n",
    "        padded_txt = []\n",
    "        txt_mask = []\n",
    "        for t in txt:\n",
    "            padded = t + [0] * (max_len - len(t))\n",
    "            mask = [1] * len(t) + [0] * (max_len - len(t))\n",
    "            padded_txt.append(padded)\n",
    "            txt_mask.append(mask)\n",
    "\n",
    "        padded_txt = torch.LongTensor(padded_txt)\n",
    "        txt_mask = torch.BoolTensor(txt_mask)\n",
    "        img = torch.FloatTensor(img)\n",
    "        tag = torch.LongTensor(tag)\n",
    "        return guid, padded_txt, txt_mask, img, tag\n",
    "\n",
    "\n",
    "    def get_dataloader(self):\n",
    "        print(\"===== Data Info =====\")\n",
    "        samples = pd.read_csv(f\"{dataset_loc}/train.txt\")\n",
    "        print(samples[\"tag\"].value_counts())\n",
    "\n",
    "        train_samples, val_samples = train_test_split(\n",
    "            samples, test_size=0.2, random_state=SEED\n",
    "        )\n",
    "        test_samples = pd.read_csv(f\"{dataset_loc}/test_without_label.txt\").fillna(\n",
    "            \"null\"\n",
    "        )\n",
    "\n",
    "        self.train_size = len(train_samples)\n",
    "        self.val_size = len(val_samples)\n",
    "        self.test_size = len(test_samples)\n",
    "\n",
    "        print(\"\\nTrain size:\", self.train_size)\n",
    "        print(\"Val size:\", self.val_size)\n",
    "        print(\"Test size:\", self.test_size, \"\\n\")\n",
    "        print(\"Loading dataset...\\n\")\n",
    "\n",
    "        train_data = MultimodalDataset(train_samples, self.tokenizer)\n",
    "        val_data = MultimodalDataset(val_samples, self.tokenizer)\n",
    "        test_data = MultimodalDataset(test_samples, self.tokenizer)\n",
    "\n",
    "        self.train_loader = DataLoader(\n",
    "            train_data, batch_size=self.batch_size, collate_fn=self._collate_fn\n",
    "        )\n",
    "        self.val_loader = DataLoader(\n",
    "            val_data, batch_size=self.batch_size, collate_fn=self._collate_fn\n",
    "        )\n",
    "        self.test_loader = DataLoader(\n",
    "            test_data, batch_size=self.batch_size, collate_fn=self._collate_fn\n",
    "        )\n"
   ]
  },
  {
   "cell_type": "markdown",
   "id": "187640ac",
   "metadata": {
    "papermill": {
     "duration": 0.004479,
     "end_time": "2024-01-31T10:29:11.944057",
     "exception": false,
     "start_time": "2024-01-31T10:29:11.939578",
     "status": "completed"
    },
    "tags": []
   },
   "source": [
    "## 2. 定义模型"
   ]
  },
  {
   "cell_type": "code",
   "execution_count": 2,
   "id": "92d8fcae",
   "metadata": {
    "execution": {
     "iopub.execute_input": "2024-01-31T10:29:11.955514Z",
     "iopub.status.busy": "2024-01-31T10:29:11.954987Z",
     "iopub.status.idle": "2024-01-31T10:29:12.277727Z",
     "shell.execute_reply": "2024-01-31T10:29:12.276898Z"
    },
    "papermill": {
     "duration": 0.331171,
     "end_time": "2024-01-31T10:29:12.280138",
     "exception": false,
     "start_time": "2024-01-31T10:29:11.948967",
     "status": "completed"
    },
    "tags": []
   },
   "outputs": [],
   "source": [
    "import torch\n",
    "import torch.nn as nn\n",
    "import torchvision\n",
    "from torchvision.models import ResNet18_Weights\n",
    "from transformers import BertModel\n",
    "\n",
    "\n",
    "class BertResnetWithConcat(nn.Module):\n",
    "    def __init__(self):\n",
    "        super().__init__()\n",
    "        self.txt_model = BertModel.from_pretrained(\"bert-base-uncased\")\n",
    "        self.img_model = torchvision.models.resnet18(\n",
    "            weights=ResNet18_Weights.IMAGENET1K_V1\n",
    "        )\n",
    "\n",
    "        self.fc = nn.Linear(768 + 1000, 3)\n",
    "        self.only_img_fc = nn.Linear(1000, 3)\n",
    "        self.only_txt_fc = nn.Linear(768, 3)\n",
    "\n",
    "    def forward(self, txt, txt_mask, img, ablate):\n",
    "        if ablate == 0:  # both\n",
    "            img = self.img_model(img)\n",
    "            txt = self.txt_model(input_ids=txt, attention_mask=txt_mask)  # type: ignore\n",
    "            txt = txt.last_hidden_state[:, 0, :]  # CLS vector\n",
    "            txt.view(txt.shape[0], -1)\n",
    "\n",
    "            out = torch.cat((txt, img), dim=-1)\n",
    "            out = self.fc(out)\n",
    "        elif ablate == 1:  # img only\n",
    "            img = self.img_model(img)\n",
    "            out = self.only_img_fc(img)\n",
    "        else:  # txt only\n",
    "            txt = self.txt_model(input_ids=txt, attention_mask=txt_mask)  # type: ignore\n",
    "            txt = txt.last_hidden_state[:, 0, :]  # CLS vector\n",
    "            txt.view(txt.shape[0], -1)\n",
    "            out = self.only_txt_fc(txt)\n",
    "\n",
    "        return out\n"
   ]
  },
  {
   "cell_type": "code",
   "execution_count": 3,
   "id": "41d4ae25",
   "metadata": {
    "execution": {
     "iopub.execute_input": "2024-01-31T10:29:12.290882Z",
     "iopub.status.busy": "2024-01-31T10:29:12.290348Z",
     "iopub.status.idle": "2024-01-31T10:29:12.301117Z",
     "shell.execute_reply": "2024-01-31T10:29:12.300260Z"
    },
    "papermill": {
     "duration": 0.01818,
     "end_time": "2024-01-31T10:29:12.303088",
     "exception": false,
     "start_time": "2024-01-31T10:29:12.284908",
     "status": "completed"
    },
    "tags": []
   },
   "outputs": [],
   "source": [
    "import torch\n",
    "import torch.nn as nn\n",
    "import torchvision\n",
    "from torchvision.models import ResNet18_Weights\n",
    "from transformers import BertModel\n",
    "\n",
    "\n",
    "class BertResnetWithAttention(nn.Module):\n",
    "    def __init__(self):\n",
    "        super().__init__()\n",
    "        self.txt_model = BertModel.from_pretrained(\"bert-base-uncased\")\n",
    "        self.img_model = torchvision.models.resnet18(\n",
    "            weights=ResNet18_Weights.IMAGENET1K_V1\n",
    "        )\n",
    "\n",
    "        self.txt_fc = nn.Linear(768, 256)\n",
    "        self.img_fc = nn.Linear(1000, 256)\n",
    "\n",
    "        self.fc = nn.Linear(512, 3)\n",
    "\n",
    "        self.transformer_encoder = nn.TransformerEncoder(\n",
    "            encoder_layer=nn.TransformerEncoderLayer(\n",
    "                d_model=512,\n",
    "                nhead=4,\n",
    "                dim_feedforward=512,\n",
    "                dropout=0.4,\n",
    "            ),\n",
    "            num_layers=2,\n",
    "        )\n",
    "\n",
    "        self.activate = nn.LeakyReLU()\n",
    "\n",
    "    def forward(self, txt, txt_mask, img, _):\n",
    "        img = self.img_model(img)\n",
    "        img = self.img_fc(img)\n",
    "        img = self.activate(img)\n",
    "\n",
    "        txt = self.txt_model(input_ids=txt, attention_mask=txt_mask)  # type: ignore\n",
    "        txt = txt.last_hidden_state[:, 0, :]  # CLS vector\n",
    "        txt.view(txt.shape[0], -1)\n",
    "        txt = self.txt_fc(txt)\n",
    "        txt = self.activate(txt)\n",
    "\n",
    "        out = torch.cat((txt, img), dim=-1)\n",
    "        out = self.transformer_encoder(out)\n",
    "        out = self.fc(out)\n",
    "\n",
    "        return out\n"
   ]
  },
  {
   "cell_type": "code",
   "execution_count": 4,
   "id": "ee682e79",
   "metadata": {
    "execution": {
     "iopub.execute_input": "2024-01-31T10:29:12.313369Z",
     "iopub.status.busy": "2024-01-31T10:29:12.313055Z",
     "iopub.status.idle": "2024-01-31T10:29:12.323984Z",
     "shell.execute_reply": "2024-01-31T10:29:12.323027Z"
    },
    "papermill": {
     "duration": 0.018494,
     "end_time": "2024-01-31T10:29:12.326213",
     "exception": false,
     "start_time": "2024-01-31T10:29:12.307719",
     "status": "completed"
    },
    "tags": []
   },
   "outputs": [],
   "source": [
    "import torch\n",
    "import torch.nn as nn\n",
    "import torchvision\n",
    "from torchvision.models import DenseNet121_Weights\n",
    "from transformers import BertModel\n",
    "\n",
    "\n",
    "class BertDensenetWithConcat(nn.Module):\n",
    "    def __init__(self):\n",
    "        super().__init__()\n",
    "        self.txt_model = BertModel.from_pretrained(\"bert-base-uncased\")\n",
    "        self.img_model = torchvision.models.densenet121(\n",
    "            weights=DenseNet121_Weights.IMAGENET1K_V1\n",
    "        )\n",
    "\n",
    "        self.fc = nn.Linear(768 + 1000, 3)\n",
    "        self.only_img_fc = nn.Linear(1000, 3)\n",
    "        self.only_txt_fc = nn.Linear(768, 3)\n",
    "\n",
    "    def forward(self, txt, txt_mask, img, ablate):\n",
    "        if ablate == 0:  # both\n",
    "            img = self.img_model(img)\n",
    "            txt = self.txt_model(input_ids=txt, attention_mask=txt_mask)  # type: ignore\n",
    "            txt = txt.last_hidden_state[:, 0, :]  # CLS vector\n",
    "            txt.view(txt.shape[0], -1)\n",
    "\n",
    "            out = torch.cat((txt, img), dim=-1)\n",
    "            out = self.fc(out)\n",
    "        elif ablate == 1:  # img only\n",
    "            img = self.img_model(img)\n",
    "            out = self.only_img_fc(img)\n",
    "        else:  # txt only\n",
    "            txt = self.txt_model(input_ids=txt, attention_mask=txt_mask)  # type: ignore\n",
    "            txt = txt.last_hidden_state[:, 0, :]  # CLS vector\n",
    "            txt.view(txt.shape[0], -1)\n",
    "            out = self.only_txt_fc(txt)\n",
    "\n",
    "        return out\n"
   ]
  },
  {
   "cell_type": "code",
   "execution_count": 5,
   "id": "e397a0df",
   "metadata": {
    "execution": {
     "iopub.execute_input": "2024-01-31T10:29:12.336768Z",
     "iopub.status.busy": "2024-01-31T10:29:12.336026Z",
     "iopub.status.idle": "2024-01-31T10:29:12.346286Z",
     "shell.execute_reply": "2024-01-31T10:29:12.345605Z"
    },
    "papermill": {
     "duration": 0.017544,
     "end_time": "2024-01-31T10:29:12.348315",
     "exception": false,
     "start_time": "2024-01-31T10:29:12.330771",
     "status": "completed"
    },
    "tags": []
   },
   "outputs": [],
   "source": [
    "import torch\n",
    "import torch.nn as nn\n",
    "import torchvision\n",
    "from torchvision.models import DenseNet121_Weights\n",
    "from transformers import BertModel\n",
    "\n",
    "\n",
    "class BertDensenetWithAttention(nn.Module):\n",
    "    def __init__(self):\n",
    "        super().__init__()\n",
    "        self.txt_model = BertModel.from_pretrained(\"bert-base-uncased\")\n",
    "        self.img_model = torchvision.models.densenet121(\n",
    "            weights=DenseNet121_Weights.IMAGENET1K_V1\n",
    "        )\n",
    "\n",
    "        self.txt_fc = nn.Linear(768, 256)\n",
    "        self.img_fc = nn.Linear(1000, 256)\n",
    "\n",
    "        self.fc = nn.Linear(512, 3)\n",
    "\n",
    "        self.transformer_encoder = nn.TransformerEncoder(\n",
    "            encoder_layer=nn.TransformerEncoderLayer(\n",
    "                d_model=512,\n",
    "                nhead=4,\n",
    "                dim_feedforward=512,\n",
    "                dropout=0.4,\n",
    "            ),\n",
    "            num_layers=2,\n",
    "        )\n",
    "\n",
    "        self.activate = nn.LeakyReLU()\n",
    "\n",
    "    def forward(self, txt, txt_mask, img, _):\n",
    "        img = self.img_model(img)\n",
    "        img = self.img_fc(img)\n",
    "        img = self.activate(img)\n",
    "\n",
    "        txt = self.txt_model(input_ids=txt, attention_mask=txt_mask)  # type: ignore\n",
    "        txt = txt.last_hidden_state[:, 0, :]  # CLS vector\n",
    "        txt.view(txt.shape[0], -1)\n",
    "        txt = self.txt_fc(txt)\n",
    "        txt = self.activate(txt)\n",
    "\n",
    "        out = torch.cat((txt, img), dim=-1)\n",
    "        out = self.transformer_encoder(out)\n",
    "        out = self.fc(out)\n",
    "\n",
    "        return out\n"
   ]
  },
  {
   "cell_type": "markdown",
   "id": "df3379fe",
   "metadata": {
    "papermill": {
     "duration": 0.004217,
     "end_time": "2024-01-31T10:29:12.356944",
     "exception": false,
     "start_time": "2024-01-31T10:29:12.352727",
     "status": "completed"
    },
    "tags": []
   },
   "source": [
    "## 3. 定义训练过程"
   ]
  },
  {
   "cell_type": "code",
   "execution_count": 6,
   "id": "c383023d",
   "metadata": {
    "execution": {
     "iopub.execute_input": "2024-01-31T10:29:12.366672Z",
     "iopub.status.busy": "2024-01-31T10:29:12.366391Z",
     "iopub.status.idle": "2024-01-31T10:29:12.458650Z",
     "shell.execute_reply": "2024-01-31T10:29:12.457794Z"
    },
    "papermill": {
     "duration": 0.09993,
     "end_time": "2024-01-31T10:29:12.461169",
     "exception": false,
     "start_time": "2024-01-31T10:29:12.361239",
     "status": "completed"
    },
    "tags": []
   },
   "outputs": [],
   "source": [
    "import random\n",
    "\n",
    "import numpy as np\n",
    "import pandas as pd\n",
    "import torch\n",
    "import torch.nn as nn\n",
    "from sklearn.metrics import f1_score, precision_score, recall_score, accuracy_score\n",
    "from torch import optim\n",
    "from tqdm import tqdm\n",
    "\n",
    "output_loc = \".\"\n",
    "\n",
    "DEVICE = torch.device(\"cuda\" if torch.cuda.is_available() else \"cpu\")\n",
    "\n",
    "\n",
    "def set_seed(seed):\n",
    "    random.seed(seed)\n",
    "    np.random.seed(seed)\n",
    "    torch.manual_seed(seed)\n",
    "    torch.cuda.manual_seed_all(seed)\n",
    "    torch.backends.cudnn.deterministic = True\n",
    "\n",
    "\n",
    "class Model:\n",
    "    def __init__(\n",
    "        self,\n",
    "        max_epochs=10,\n",
    "        lr=1e-5,\n",
    "        batch_size=16,\n",
    "        model=0,\n",
    "        ablate=0,\n",
    "    ):\n",
    "        set_seed(SEED)\n",
    "\n",
    "        self.epochs = max_epochs\n",
    "        self.batch_size = batch_size\n",
    "        self.ablate = ablate\n",
    "        self.model_type = model\n",
    "        if model == 0:\n",
    "            self.model = BertResnetWithConcat().to(DEVICE)\n",
    "        elif model == 1:\n",
    "            self.model = BertResnetWithAttention().to(DEVICE)\n",
    "        elif model == 2:\n",
    "            self.model = BertDensenetWithConcat().to(DEVICE)\n",
    "        elif model == 3:\n",
    "            self.model = BertDensenetWithAttention().to(DEVICE)\n",
    "\n",
    "        self.optimizer = optim.AdamW(self.model.parameters(), lr=lr)\n",
    "        self.criterion = nn.CrossEntropyLoss()\n",
    "        self.data = DataHandler(self.batch_size)\n",
    "\n",
    "    def train(self):\n",
    "        self.train_loss = []\n",
    "        self.val_accuracy = []\n",
    "        print(\"===== Traning Info =====\")\n",
    "        print(\"Device:\", DEVICE)\n",
    "        print(\"Batch size:\", self.batch_size)\n",
    "\n",
    "        if self.ablate == 0:\n",
    "            if self.model_type == 0:\n",
    "                print(\"Model: BertResnetWithConcat\")\n",
    "            elif self.model_type == 1:\n",
    "                print(\"Model: BertResnetWithCrossAttention\")\n",
    "            elif self.model_type == 2:\n",
    "                print(\"Model: BertDensenetWithConcat\")\n",
    "            elif self.model_type == 3:\n",
    "                print(\"Model: BertDensenetWithCrossAttention\")\n",
    "        elif self.ablate == 1:\n",
    "            if self.model_type == 0:\n",
    "                print(\"Model: Resnet Only\")\n",
    "            elif self.model_type == 2:\n",
    "                print(\"Model: Densenet Only\")\n",
    "        elif self.ablate == 2:\n",
    "            print(\"Model: Bert only\")\n",
    "\n",
    "        print(\"\\n==== Starting Train ====\")\n",
    "\n",
    "        best_metrics = [float(\"inf\"), 0, 0, 0, 0]\n",
    "        early_stop_patience = 2\n",
    "        early_stop_count = 0\n",
    "        epoch = 0\n",
    "\n",
    "        for epoch in range(1, self.epochs + 1):\n",
    "            self._epoch_train(epoch)\n",
    "            metrics = self._evaluate()\n",
    "            if metrics[1] > best_metrics[1]:\n",
    "                best_metrics = metrics\n",
    "                torch.save(self.model.state_dict(), f\"{output_loc}/model.pt\")\n",
    "                early_stop_count = 0\n",
    "            else:\n",
    "                early_stop_count += 1\n",
    "                if early_stop_count == early_stop_patience:\n",
    "                    print(\"Early stop...\")\n",
    "                    break\n",
    "\n",
    "        print(f\"The training epoch is {epoch}\")\n",
    "        print(f\"Choose model with best accuracy: {best_metrics[1]}, with:\")\n",
    "        print(f\"Precision: {best_metrics[2]}\")\n",
    "        print(f\"Recall: {best_metrics[3]}\")\n",
    "        print(f\"F1: {best_metrics[4]}\")\n",
    "        self.model.load_state_dict(torch.load(f\"{output_loc}/model.pt\"))\n",
    "\n",
    "        def moving_average(data, window_size):\n",
    "            weights = np.repeat(1.0, window_size) / window_size\n",
    "            smoothed_data = np.convolve(data, weights, \"valid\")\n",
    "            return smoothed_data\n",
    "\n",
    "        window_size = 15\n",
    "        self.train_loss = moving_average(self.train_loss, window_size)\n",
    "\n",
    "    def _epoch_train(self, epoch):\n",
    "        self.model.train()\n",
    "        epoch_loss = 0\n",
    "        correct = 0\n",
    "        for _, txt, txt_mask, image, label in tqdm(self.data.train_loader):\n",
    "            txt = txt.to(DEVICE)\n",
    "            txt_mask = txt_mask.to(DEVICE)\n",
    "            image = image.to(DEVICE)\n",
    "            label = label.to(DEVICE)\n",
    "\n",
    "            self.optimizer.zero_grad()\n",
    "            output = self.model(txt, txt_mask, image, self.ablate)\n",
    "\n",
    "            loss = self.criterion(output, label)\n",
    "            loss.backward()\n",
    "\n",
    "            # used to prevent gradient explosion\n",
    "            # clip_grad_norm_(self.model.parameters(), 1)\n",
    "\n",
    "            self.optimizer.step()\n",
    "\n",
    "            pred = output.argmax(dim=1)\n",
    "            correct += (pred == label).sum().item()\n",
    "\n",
    "            self.train_loss.append(loss.item())\n",
    "            epoch_loss += loss.item()\n",
    "\n",
    "        epoch_loss /= len(self.data.train_loader)\n",
    "        epoch_acc = correct / self.data.train_size\n",
    "        print(f\"Train Epoch {epoch}\")\n",
    "        print(\"Train set: \\nLoss: {}, Accuracy: {}\".format(epoch_loss, epoch_acc))\n",
    "\n",
    "    def _evaluate(self):\n",
    "        self.model.eval()\n",
    "        epoch_loss = 0\n",
    "        preds = []\n",
    "        labels = []\n",
    "\n",
    "        with torch.no_grad():\n",
    "            for _, txt, txt_mask, image, label in self.data.val_loader:\n",
    "                txt = txt.to(DEVICE)\n",
    "                txt_mask = txt_mask.to(DEVICE)\n",
    "                image = image.to(DEVICE)\n",
    "                label = label.to(DEVICE)\n",
    "\n",
    "                self.optimizer.zero_grad()\n",
    "                output = self.model(txt, txt_mask, image, self.ablate)\n",
    "\n",
    "                loss = self.criterion(output, label)\n",
    "\n",
    "                pred = output.argmax(dim=1)\n",
    "                epoch_loss += loss.item()\n",
    "\n",
    "                preds.append(pred)\n",
    "                labels.append(label)\n",
    "\n",
    "        epoch_loss /= len(self.data.val_loader)\n",
    "\n",
    "        preds = torch.cat(preds).cpu().numpy()\n",
    "        labels = torch.cat(labels).cpu().numpy()\n",
    "\n",
    "        epoch_acc = accuracy_score(labels, preds)\n",
    "        self.val_accuracy.append(epoch_acc)\n",
    "\n",
    "        f1 = f1_score(labels, preds, average=\"macro\")\n",
    "        precision = precision_score(labels, preds, average=\"macro\")\n",
    "        recall = recall_score(labels, preds, average=\"macro\")\n",
    "        print(\n",
    "            \"Valid set: \\nLoss: {}, Accuracy: {}, Precision: {}, Recall: {}, F1: {}\".format(\n",
    "                epoch_loss, epoch_acc, precision, recall, f1\n",
    "            )\n",
    "        )\n",
    "        return epoch_loss, epoch_acc, precision, recall, f1\n",
    "\n",
    "    def save_test_result(self):\n",
    "        print(f\"Predict and save test result...\")\n",
    "        self.model.eval()\n",
    "        guid_list = []\n",
    "        tag_list = []\n",
    "\n",
    "        with torch.no_grad():\n",
    "            for guid, txt, txt_mask, image, _ in tqdm(self.data.test_loader):\n",
    "                txt = txt.to(DEVICE)\n",
    "                txt_mask = txt_mask.to(DEVICE)\n",
    "                image = image.to(DEVICE)\n",
    "\n",
    "                self.optimizer.zero_grad()\n",
    "                output = self.model(txt, txt_mask, image, self.ablate)\n",
    "                pred = output.argmax(dim=1)\n",
    "\n",
    "                guid_list.extend(guid)\n",
    "                emotion = [ID2EMOTION[p.item()] for p in pred]\n",
    "                tag_list.extend(emotion)\n",
    "\n",
    "        df = pd.DataFrame({\"guid\": guid_list, \"tag\": tag_list})\n",
    "        df.to_csv(f\"{output_loc}/test_with_predict.txt\", index=False)\n",
    "        print(\"Save successfully!\")"
   ]
  },
  {
   "cell_type": "markdown",
   "id": "6fafd659",
   "metadata": {
    "papermill": {
     "duration": 0.004477,
     "end_time": "2024-01-31T10:29:12.470780",
     "exception": false,
     "start_time": "2024-01-31T10:29:12.466303",
     "status": "completed"
    },
    "tags": []
   },
   "source": [
    "## 4. 开始训练"
   ]
  },
  {
   "cell_type": "code",
   "execution_count": 7,
   "id": "0994f1d3",
   "metadata": {
    "execution": {
     "iopub.execute_input": "2024-01-31T10:29:12.481220Z",
     "iopub.status.busy": "2024-01-31T10:29:12.480873Z",
     "iopub.status.idle": "2024-01-31T11:35:59.886463Z",
     "shell.execute_reply": "2024-01-31T11:35:59.885501Z"
    },
    "papermill": {
     "duration": 4007.412976,
     "end_time": "2024-01-31T11:35:59.888455",
     "exception": false,
     "start_time": "2024-01-31T10:29:12.475479",
     "status": "completed"
    },
    "tags": []
   },
   "outputs": [
    {
     "data": {
      "application/vnd.jupyter.widget-view+json": {
       "model_id": "fe7f7bfd07c84e4dac299a1af8d3749f",
       "version_major": 2,
       "version_minor": 0
      },
      "text/plain": [
       "config.json:   0%|          | 0.00/570 [00:00<?, ?B/s]"
      ]
     },
     "metadata": {},
     "output_type": "display_data"
    },
    {
     "data": {
      "application/vnd.jupyter.widget-view+json": {
       "model_id": "773c7b4b21234c01beee58f5de81b8cf",
       "version_major": 2,
       "version_minor": 0
      },
      "text/plain": [
       "model.safetensors:   0%|          | 0.00/440M [00:00<?, ?B/s]"
      ]
     },
     "metadata": {},
     "output_type": "display_data"
    },
    {
     "name": "stderr",
     "output_type": "stream",
     "text": [
      "Downloading: \"https://download.pytorch.org/models/resnet18-f37072fd.pth\" to /root/.cache/torch/hub/checkpoints/resnet18-f37072fd.pth\n",
      "100%|██████████| 44.7M/44.7M [00:03<00:00, 14.8MB/s]\n"
     ]
    },
    {
     "data": {
      "application/vnd.jupyter.widget-view+json": {
       "model_id": "c2974b1b71c64ec188899b8dfdfb51c0",
       "version_major": 2,
       "version_minor": 0
      },
      "text/plain": [
       "tokenizer_config.json:   0%|          | 0.00/28.0 [00:00<?, ?B/s]"
      ]
     },
     "metadata": {},
     "output_type": "display_data"
    },
    {
     "data": {
      "application/vnd.jupyter.widget-view+json": {
       "model_id": "38a34fb31eab4d989caabd3e9a02ea09",
       "version_major": 2,
       "version_minor": 0
      },
      "text/plain": [
       "vocab.txt:   0%|          | 0.00/232k [00:00<?, ?B/s]"
      ]
     },
     "metadata": {},
     "output_type": "display_data"
    },
    {
     "data": {
      "application/vnd.jupyter.widget-view+json": {
       "model_id": "1f67f703912f418eb23ba9201c725f1e",
       "version_major": 2,
       "version_minor": 0
      },
      "text/plain": [
       "tokenizer.json:   0%|          | 0.00/466k [00:00<?, ?B/s]"
      ]
     },
     "metadata": {},
     "output_type": "display_data"
    },
    {
     "name": "stdout",
     "output_type": "stream",
     "text": [
      "===== Data Info =====\n",
      "tag\n",
      "positive    2388\n",
      "negative    1193\n",
      "neutral      419\n",
      "Name: count, dtype: int64\n",
      "\n",
      "Train size: 3200\n",
      "Val size: 800\n",
      "Test size: 511 \n",
      "\n",
      "Loading dataset...\n",
      "\n",
      "===== Traning Info =====\n",
      "Device: cuda\n",
      "Batch size: 16\n",
      "Model: BertResnetWithConcat\n",
      "\n",
      "==== Starting Train ====\n"
     ]
    },
    {
     "name": "stderr",
     "output_type": "stream",
     "text": [
      "100%|██████████| 200/200 [01:56<00:00,  1.72it/s]\n"
     ]
    },
    {
     "name": "stdout",
     "output_type": "stream",
     "text": [
      "Train Epoch 1\n",
      "Train set: \n",
      "Loss: 0.8481150774657726, Accuracy: 0.62375\n",
      "Valid set: \n",
      "Loss: 0.7514602029323578, Accuracy: 0.6825, Precision: 0.603969790031171, Recall: 0.5570725861453991, F1: 0.555344322998161\n"
     ]
    },
    {
     "name": "stderr",
     "output_type": "stream",
     "text": [
      "100%|██████████| 200/200 [01:53<00:00,  1.76it/s]\n"
     ]
    },
    {
     "name": "stdout",
     "output_type": "stream",
     "text": [
      "Train Epoch 2\n",
      "Train set: \n",
      "Loss: 0.47838540211319924, Accuracy: 0.8065625\n",
      "Valid set: \n",
      "Loss: 0.7379146856069565, Accuracy: 0.68875, Precision: 0.5888398848223476, Recall: 0.5602198569720833, F1: 0.5637548143465808\n"
     ]
    },
    {
     "name": "stderr",
     "output_type": "stream",
     "text": [
      "100%|██████████| 200/200 [01:52<00:00,  1.78it/s]\n"
     ]
    },
    {
     "name": "stdout",
     "output_type": "stream",
     "text": [
      "Train Epoch 3\n",
      "Train set: \n",
      "Loss: 0.28736488822847606, Accuracy: 0.9075\n",
      "Valid set: \n",
      "Loss: 0.8212919801473617, Accuracy: 0.685, Precision: 0.5908649100049468, Recall: 0.56186384866322, F1: 0.5672977486686953\n"
     ]
    },
    {
     "name": "stderr",
     "output_type": "stream",
     "text": [
      "100%|██████████| 200/200 [01:52<00:00,  1.78it/s]\n"
     ]
    },
    {
     "name": "stdout",
     "output_type": "stream",
     "text": [
      "Train Epoch 4\n",
      "Train set: \n",
      "Loss: 0.1549170281365514, Accuracy: 0.960625\n",
      "Valid set: \n",
      "Loss: 0.8840981182456017, Accuracy: 0.68625, Precision: 0.584869950667536, Recall: 0.5471322034967923, F1: 0.5593031999710227\n",
      "Early stop...\n",
      "The training epoch is 4\n",
      "Choose model with best accuracy: 0.68875, with:\n",
      "Precision: 0.5888398848223476\n",
      "Recall: 0.5602198569720833\n",
      "F1: 0.5637548143465808\n",
      "Training time: 545.4064795970917\n",
      "===== Data Info =====\n",
      "tag\n",
      "positive    2388\n",
      "negative    1193\n",
      "neutral      419\n",
      "Name: count, dtype: int64\n",
      "\n",
      "Train size: 3200\n",
      "Val size: 800\n",
      "Test size: 511 \n",
      "\n",
      "Loading dataset...\n",
      "\n",
      "===== Traning Info =====\n",
      "Device: cuda\n",
      "Batch size: 16\n",
      "Model: BertResnetWithCrossAttention\n",
      "\n",
      "==== Starting Train ====\n"
     ]
    },
    {
     "name": "stderr",
     "output_type": "stream",
     "text": [
      "100%|██████████| 200/200 [01:54<00:00,  1.75it/s]\n"
     ]
    },
    {
     "name": "stdout",
     "output_type": "stream",
     "text": [
      "Train Epoch 1\n",
      "Train set: \n",
      "Loss: 0.8277765029668808, Accuracy: 0.6328125\n",
      "Valid set: \n",
      "Loss: 0.7208098298311234, Accuracy: 0.69, Precision: 0.6480346187043646, Recall: 0.5593136467940031, F1: 0.5527689338966122\n"
     ]
    },
    {
     "name": "stderr",
     "output_type": "stream",
     "text": [
      "100%|██████████| 200/200 [01:52<00:00,  1.77it/s]\n"
     ]
    },
    {
     "name": "stdout",
     "output_type": "stream",
     "text": [
      "Train Epoch 2\n",
      "Train set: \n",
      "Loss: 0.5352846904098988, Accuracy: 0.7871875\n",
      "Valid set: \n",
      "Loss: 0.7379485428333282, Accuracy: 0.69625, Precision: 0.6165131091907264, Recall: 0.5536484740256349, F1: 0.5607703728815687\n"
     ]
    },
    {
     "name": "stderr",
     "output_type": "stream",
     "text": [
      "100%|██████████| 200/200 [01:51<00:00,  1.79it/s]\n"
     ]
    },
    {
     "name": "stdout",
     "output_type": "stream",
     "text": [
      "Train Epoch 3\n",
      "Train set: \n",
      "Loss: 0.3386993007734418, Accuracy: 0.8825\n",
      "Valid set: \n",
      "Loss: 0.8352116751670837, Accuracy: 0.67, Precision: 0.5824309590309621, Recall: 0.5594147039930172, F1: 0.5552497317099085\n"
     ]
    },
    {
     "name": "stderr",
     "output_type": "stream",
     "text": [
      "100%|██████████| 200/200 [01:50<00:00,  1.81it/s]\n"
     ]
    },
    {
     "name": "stdout",
     "output_type": "stream",
     "text": [
      "Train Epoch 4\n",
      "Train set: \n",
      "Loss: 0.1918549701757729, Accuracy: 0.94375\n",
      "Valid set: \n",
      "Loss: 0.9013938593864441, Accuracy: 0.69125, Precision: 0.6024421608079197, Recall: 0.5613392679919658, F1: 0.5750390773459982\n",
      "Early stop...\n",
      "The training epoch is 4\n",
      "Choose model with best accuracy: 0.69625, with:\n",
      "Precision: 0.6165131091907264\n",
      "Recall: 0.5536484740256349\n",
      "F1: 0.5607703728815687\n",
      "Training time: 540.4838178157806\n"
     ]
    },
    {
     "name": "stderr",
     "output_type": "stream",
     "text": [
      "Downloading: \"https://download.pytorch.org/models/densenet121-a639ec97.pth\" to /root/.cache/torch/hub/checkpoints/densenet121-a639ec97.pth\n",
      "100%|██████████| 30.8M/30.8M [00:01<00:00, 17.4MB/s]\n"
     ]
    },
    {
     "name": "stdout",
     "output_type": "stream",
     "text": [
      "===== Data Info =====\n",
      "tag\n",
      "positive    2388\n",
      "negative    1193\n",
      "neutral      419\n",
      "Name: count, dtype: int64\n",
      "\n",
      "Train size: 3200\n",
      "Val size: 800\n",
      "Test size: 511 \n",
      "\n",
      "Loading dataset...\n",
      "\n",
      "===== Traning Info =====\n",
      "Device: cuda\n",
      "Batch size: 16\n",
      "Model: BertDensenetWithConcat\n",
      "\n",
      "==== Starting Train ====\n"
     ]
    },
    {
     "name": "stderr",
     "output_type": "stream",
     "text": [
      "100%|██████████| 200/200 [02:00<00:00,  1.66it/s]\n"
     ]
    },
    {
     "name": "stdout",
     "output_type": "stream",
     "text": [
      "Train Epoch 1\n",
      "Train set: \n",
      "Loss: 0.8704016382992268, Accuracy: 0.619375\n",
      "Valid set: \n",
      "Loss: 0.7152319985628128, Accuracy: 0.71, Precision: 0.6208239531531023, Recall: 0.5582173680654561, F1: 0.5564080103313599\n"
     ]
    },
    {
     "name": "stderr",
     "output_type": "stream",
     "text": [
      "100%|██████████| 200/200 [02:00<00:00,  1.66it/s]\n"
     ]
    },
    {
     "name": "stdout",
     "output_type": "stream",
     "text": [
      "Train Epoch 2\n",
      "Train set: \n",
      "Loss: 0.5019320581853389, Accuracy: 0.8028125\n",
      "Valid set: \n",
      "Loss: 0.700513830780983, Accuracy: 0.70625, Precision: 0.6129394682247603, Recall: 0.5624954561570591, F1: 0.5705689666795364\n"
     ]
    },
    {
     "name": "stderr",
     "output_type": "stream",
     "text": [
      "100%|██████████| 200/200 [01:59<00:00,  1.68it/s]\n"
     ]
    },
    {
     "name": "stdout",
     "output_type": "stream",
     "text": [
      "Train Epoch 3\n",
      "Train set: \n",
      "Loss: 0.30314570002257824, Accuracy: 0.8915625\n",
      "Valid set: \n",
      "Loss: 0.7601141846179962, Accuracy: 0.70125, Precision: 0.5938253171048067, Recall: 0.5659983459878694, F1: 0.5692708333333334\n",
      "Early stop...\n",
      "The training epoch is 3\n",
      "Choose model with best accuracy: 0.71, with:\n",
      "Precision: 0.6208239531531023\n",
      "Recall: 0.5582173680654561\n",
      "F1: 0.5564080103313599\n",
      "Training time: 429.5694832801819\n",
      "===== Data Info =====\n",
      "tag\n",
      "positive    2388\n",
      "negative    1193\n",
      "neutral      419\n",
      "Name: count, dtype: int64\n",
      "\n",
      "Train size: 3200\n",
      "Val size: 800\n",
      "Test size: 511 \n",
      "\n",
      "Loading dataset...\n",
      "\n",
      "===== Traning Info =====\n",
      "Device: cuda\n",
      "Batch size: 16\n",
      "Model: BertDensenetWithCrossAttention\n",
      "\n",
      "==== Starting Train ====\n"
     ]
    },
    {
     "name": "stderr",
     "output_type": "stream",
     "text": [
      "100%|██████████| 200/200 [01:59<00:00,  1.67it/s]\n"
     ]
    },
    {
     "name": "stdout",
     "output_type": "stream",
     "text": [
      "Train Epoch 1\n",
      "Train set: \n",
      "Loss: 0.8182583798468113, Accuracy: 0.6365625\n",
      "Valid set: \n",
      "Loss: 0.7047787576913833, Accuracy: 0.71, Precision: 0.7028286432737554, Recall: 0.5622351379292186, F1: 0.5573259647448802\n"
     ]
    },
    {
     "name": "stderr",
     "output_type": "stream",
     "text": [
      "100%|██████████| 200/200 [01:59<00:00,  1.67it/s]\n"
     ]
    },
    {
     "name": "stdout",
     "output_type": "stream",
     "text": [
      "Train Epoch 2\n",
      "Train set: \n",
      "Loss: 0.5425574917346239, Accuracy: 0.7828125\n",
      "Valid set: \n",
      "Loss: 0.7118367427587509, Accuracy: 0.71875, Precision: 0.643425979876645, Recall: 0.5804123219000118, F1: 0.584184987464747\n"
     ]
    },
    {
     "name": "stderr",
     "output_type": "stream",
     "text": [
      "100%|██████████| 200/200 [02:00<00:00,  1.67it/s]\n"
     ]
    },
    {
     "name": "stdout",
     "output_type": "stream",
     "text": [
      "Train Epoch 3\n",
      "Train set: \n",
      "Loss: 0.3441022937744856, Accuracy: 0.874375\n",
      "Valid set: \n",
      "Loss: 0.8002323782444001, Accuracy: 0.71375, Precision: 0.6378357020303, Recall: 0.5884065006642273, F1: 0.5965659441596906\n"
     ]
    },
    {
     "name": "stderr",
     "output_type": "stream",
     "text": [
      "100%|██████████| 200/200 [01:59<00:00,  1.67it/s]\n"
     ]
    },
    {
     "name": "stdout",
     "output_type": "stream",
     "text": [
      "Train Epoch 4\n",
      "Train set: \n",
      "Loss: 0.18960339413955807, Accuracy: 0.940625\n",
      "Valid set: \n",
      "Loss: 0.8699598011374473, Accuracy: 0.705, Precision: 0.6143803026051361, Recall: 0.5707453693310163, F1: 0.5840671301984707\n",
      "Early stop...\n",
      "The training epoch is 4\n",
      "Choose model with best accuracy: 0.71875, with:\n",
      "Precision: 0.643425979876645\n",
      "Recall: 0.5804123219000118\n",
      "F1: 0.584184987464747\n",
      "Training time: 572.3940951824188\n",
      "===== Data Info =====\n",
      "tag\n",
      "positive    2388\n",
      "negative    1193\n",
      "neutral      419\n",
      "Name: count, dtype: int64\n",
      "\n",
      "Train size: 3200\n",
      "Val size: 800\n",
      "Test size: 511 \n",
      "\n",
      "Loading dataset...\n",
      "\n",
      "===== Traning Info =====\n",
      "Device: cuda\n",
      "Batch size: 16\n",
      "Model: Resnet Only\n",
      "\n",
      "==== Starting Train ====\n"
     ]
    },
    {
     "name": "stderr",
     "output_type": "stream",
     "text": [
      "100%|██████████| 200/200 [01:28<00:00,  2.26it/s]\n"
     ]
    },
    {
     "name": "stdout",
     "output_type": "stream",
     "text": [
      "Train Epoch 1\n",
      "Train set: \n",
      "Loss: 0.9368028110265731, Accuracy: 0.579375\n",
      "Valid set: \n",
      "Loss: 0.895398154258728, Accuracy: 0.5725, Precision: 0.47078979843685725, Recall: 0.4203124543616948, F1: 0.43127067198439767\n"
     ]
    },
    {
     "name": "stderr",
     "output_type": "stream",
     "text": [
      "100%|██████████| 200/200 [01:28<00:00,  2.26it/s]\n"
     ]
    },
    {
     "name": "stdout",
     "output_type": "stream",
     "text": [
      "Train Epoch 2\n",
      "Train set: \n",
      "Loss: 0.6585789713263511, Accuracy: 0.7140625\n",
      "Valid set: \n",
      "Loss: 0.8761020642518997, Accuracy: 0.5825, Precision: 0.4760442487173153, Recall: 0.434645946956057, F1: 0.44475511594604583\n"
     ]
    },
    {
     "name": "stderr",
     "output_type": "stream",
     "text": [
      "100%|██████████| 200/200 [01:28<00:00,  2.26it/s]\n"
     ]
    },
    {
     "name": "stdout",
     "output_type": "stream",
     "text": [
      "Train Epoch 3\n",
      "Train set: \n",
      "Loss: 0.4917768894135952, Accuracy: 0.8196875\n",
      "Valid set: \n",
      "Loss: 0.8894303661584854, Accuracy: 0.5975, Precision: 0.49791050130033176, Recall: 0.45692308971512735, F1: 0.46825335944520524\n"
     ]
    },
    {
     "name": "stderr",
     "output_type": "stream",
     "text": [
      "100%|██████████| 200/200 [01:28<00:00,  2.26it/s]\n"
     ]
    },
    {
     "name": "stdout",
     "output_type": "stream",
     "text": [
      "Train Epoch 4\n",
      "Train set: \n",
      "Loss: 0.34432803846895693, Accuracy: 0.9134375\n",
      "Valid set: \n",
      "Loss: 0.9255641710758209, Accuracy: 0.59375, Precision: 0.4981060145466009, Recall: 0.4622389329042027, F1: 0.47348745119566754\n"
     ]
    },
    {
     "name": "stderr",
     "output_type": "stream",
     "text": [
      "100%|██████████| 200/200 [01:29<00:00,  2.25it/s]\n"
     ]
    },
    {
     "name": "stdout",
     "output_type": "stream",
     "text": [
      "Train Epoch 5\n",
      "Train set: \n",
      "Loss: 0.21911156602203846, Accuracy: 0.9709375\n",
      "Valid set: \n",
      "Loss: 0.98116266310215, Accuracy: 0.5975, Precision: 0.49961157085839014, Recall: 0.46836962971064594, F1: 0.47893013302663995\n",
      "Early stop...\n",
      "The training epoch is 5\n",
      "Choose model with best accuracy: 0.5975, with:\n",
      "Precision: 0.49791050130033176\n",
      "Recall: 0.45692308971512735\n",
      "F1: 0.46825335944520524\n",
      "Training time: 546.778391122818\n",
      "===== Data Info =====\n",
      "tag\n",
      "positive    2388\n",
      "negative    1193\n",
      "neutral      419\n",
      "Name: count, dtype: int64\n",
      "\n",
      "Train size: 3200\n",
      "Val size: 800\n",
      "Test size: 511 \n",
      "\n",
      "Loading dataset...\n",
      "\n",
      "===== Traning Info =====\n",
      "Device: cuda\n",
      "Batch size: 16\n",
      "Model: Bert only\n",
      "\n",
      "==== Starting Train ====\n"
     ]
    },
    {
     "name": "stderr",
     "output_type": "stream",
     "text": [
      "100%|██████████| 200/200 [01:39<00:00,  2.01it/s]\n"
     ]
    },
    {
     "name": "stdout",
     "output_type": "stream",
     "text": [
      "Train Epoch 1\n",
      "Train set: \n",
      "Loss: 0.8073436160385609, Accuracy: 0.6475\n",
      "Valid set: \n",
      "Loss: 0.7088299888372421, Accuracy: 0.68125, Precision: 0.6489290478382804, Recall: 0.5409181451612044, F1: 0.5463500191084896\n"
     ]
    },
    {
     "name": "stderr",
     "output_type": "stream",
     "text": [
      "100%|██████████| 200/200 [01:38<00:00,  2.02it/s]\n"
     ]
    },
    {
     "name": "stdout",
     "output_type": "stream",
     "text": [
      "Train Epoch 2\n",
      "Train set: \n",
      "Loss: 0.6280792745947837, Accuracy: 0.7425\n",
      "Valid set: \n",
      "Loss: 0.6900928324460983, Accuracy: 0.71125, Precision: 0.6691808467761754, Recall: 0.5611956772250118, F1: 0.5740785126312759\n"
     ]
    },
    {
     "name": "stderr",
     "output_type": "stream",
     "text": [
      "100%|██████████| 200/200 [01:38<00:00,  2.02it/s]\n"
     ]
    },
    {
     "name": "stdout",
     "output_type": "stream",
     "text": [
      "Train Epoch 3\n",
      "Train set: \n",
      "Loss: 0.4697794611752033, Accuracy: 0.819375\n",
      "Valid set: \n",
      "Loss: 0.7664698773622513, Accuracy: 0.68125, Precision: 0.6113607267336799, Recall: 0.5479584633591967, F1: 0.5549737713694421\n"
     ]
    },
    {
     "name": "stderr",
     "output_type": "stream",
     "text": [
      "100%|██████████| 200/200 [01:39<00:00,  2.02it/s]\n"
     ]
    },
    {
     "name": "stdout",
     "output_type": "stream",
     "text": [
      "Train Epoch 4\n",
      "Train set: \n",
      "Loss: 0.333427894897759, Accuracy: 0.8784375\n",
      "Valid set: \n",
      "Loss: 0.8845172747969627, Accuracy: 0.675, Precision: 0.572603891895624, Recall: 0.5515055923646809, F1: 0.5511787505503137\n",
      "Early stop...\n",
      "The training epoch is 4\n",
      "Choose model with best accuracy: 0.71125, with:\n",
      "Precision: 0.6691808467761754\n",
      "Recall: 0.5611956772250118\n",
      "F1: 0.5740785126312759\n",
      "Training time: 483.3071668148041\n",
      "===== Data Info =====\n",
      "tag\n",
      "positive    2388\n",
      "negative    1193\n",
      "neutral      419\n",
      "Name: count, dtype: int64\n",
      "\n",
      "Train size: 3200\n",
      "Val size: 800\n",
      "Test size: 511 \n",
      "\n",
      "Loading dataset...\n",
      "\n",
      "===== Traning Info =====\n",
      "Device: cuda\n",
      "Batch size: 16\n",
      "Model: Densenet Only\n",
      "\n",
      "==== Starting Train ====\n"
     ]
    },
    {
     "name": "stderr",
     "output_type": "stream",
     "text": [
      "100%|██████████| 200/200 [01:39<00:00,  2.02it/s]\n"
     ]
    },
    {
     "name": "stdout",
     "output_type": "stream",
     "text": [
      "Train Epoch 1\n",
      "Train set: \n",
      "Loss: 0.9690352302789688, Accuracy: 0.5596875\n",
      "Valid set: \n",
      "Loss: 0.8907674396038056, Accuracy: 0.60375, Precision: 0.4668176514800935, Recall: 0.42568820698731646, F1: 0.43016133442712606\n"
     ]
    },
    {
     "name": "stderr",
     "output_type": "stream",
     "text": [
      "100%|██████████| 200/200 [01:38<00:00,  2.03it/s]\n"
     ]
    },
    {
     "name": "stdout",
     "output_type": "stream",
     "text": [
      "Train Epoch 2\n",
      "Train set: \n",
      "Loss: 0.6779980766773224, Accuracy: 0.7175\n",
      "Valid set: \n",
      "Loss: 0.8675226849317551, Accuracy: 0.615, Precision: 0.4820095605267145, Recall: 0.4466293266712334, F1: 0.453219457666463\n"
     ]
    },
    {
     "name": "stderr",
     "output_type": "stream",
     "text": [
      "100%|██████████| 200/200 [01:39<00:00,  2.02it/s]\n"
     ]
    },
    {
     "name": "stdout",
     "output_type": "stream",
     "text": [
      "Train Epoch 3\n",
      "Train set: \n",
      "Loss: 0.5173545356094837, Accuracy: 0.8175\n",
      "Valid set: \n",
      "Loss: 0.8680182683467865, Accuracy: 0.6325, Precision: 0.5071852557095338, Recall: 0.47214392421307033, F1: 0.48102421402875195\n"
     ]
    },
    {
     "name": "stderr",
     "output_type": "stream",
     "text": [
      "100%|██████████| 200/200 [01:38<00:00,  2.03it/s]\n"
     ]
    },
    {
     "name": "stdout",
     "output_type": "stream",
     "text": [
      "Train Epoch 4\n",
      "Train set: \n",
      "Loss: 0.3854733154177666, Accuracy: 0.89125\n",
      "Valid set: \n",
      "Loss: 0.8815545570850373, Accuracy: 0.62625, Precision: 0.5044052225644265, Recall: 0.4772023273856694, F1: 0.4857964344579962\n"
     ]
    },
    {
     "name": "stderr",
     "output_type": "stream",
     "text": [
      "100%|██████████| 200/200 [01:38<00:00,  2.04it/s]\n"
     ]
    },
    {
     "name": "stdout",
     "output_type": "stream",
     "text": [
      "Train Epoch 5\n",
      "Train set: \n",
      "Loss: 0.27447510592639446, Accuracy: 0.953125\n",
      "Valid set: \n",
      "Loss: 0.9061819243431092, Accuracy: 0.62625, Precision: 0.5044015511781458, Recall: 0.4779366976852571, F1: 0.486341764779525\n",
      "Early stop...\n",
      "The training epoch is 5\n",
      "Choose model with best accuracy: 0.6325, with:\n",
      "Precision: 0.5071852557095338\n",
      "Recall: 0.47214392421307033\n",
      "F1: 0.48102421402875195\n",
      "Training time: 603.2657871246338\n"
     ]
    },
    {
     "data": {
      "image/png": "[encoded data removed]",
      "text/plain": [
       "<Figure size 640x480 with 1 Axes>"
      ]
     },
     "metadata": {},
     "output_type": "display_data"
    },
    {
     "data": {
      "image/png": "[encoded data removed]",
      "text/plain": [
       "<Figure size 640x480 with 1 Axes>"
      ]
     },
     "metadata": {},
     "output_type": "display_data"
    }
   ],
   "source": [
    "import time\n",
    "\n",
    "from matplotlib import pyplot as plt\n",
    "\n",
    "if __name__ == \"__main__\":\n",
    "    bert_resnet_with_concat = Model(model=0)\n",
    "\n",
    "    start_time = time.time()\n",
    "    bert_resnet_with_concat.train()\n",
    "    end_time = time.time()\n",
    "\n",
    "    print(\"Training time:\", end_time - start_time)\n",
    "\n",
    "    bert_resnet_with_attention = Model(model=1)\n",
    "\n",
    "    start_time = time.time()\n",
    "    bert_resnet_with_attention.train()\n",
    "    end_time = time.time()\n",
    "\n",
    "    print(\"Training time:\", end_time - start_time)\n",
    "\n",
    "    bert_densenet_with_concat = Model(model=2)\n",
    "\n",
    "    start_time = time.time()\n",
    "    bert_densenet_with_concat.train()\n",
    "    end_time = time.time()\n",
    "\n",
    "    print(\"Training time:\", end_time - start_time)\n",
    "\n",
    "    bert_densenet_with_attention = Model(model=3)\n",
    "\n",
    "    start_time = time.time()\n",
    "    bert_densenet_with_attention.train()\n",
    "    end_time = time.time()\n",
    "\n",
    "    print(\"Training time:\", end_time - start_time)\n",
    "\n",
    "    resnet = Model(model=0, ablate=1)\n",
    "\n",
    "    start_time = time.time()\n",
    "    resnet.train()\n",
    "    end_time = time.time()\n",
    "\n",
    "    print(\"Training time:\", end_time - start_time)\n",
    "\n",
    "    bert = Model(model=0, ablate=2)\n",
    "\n",
    "    start_time = time.time()\n",
    "    bert.train()\n",
    "    end_time = time.time()\n",
    "\n",
    "    print(\"Training time:\", end_time - start_time)\n",
    "\n",
    "    densenet = Model(model=2, ablate=1)\n",
    "\n",
    "    start_time = time.time()\n",
    "    densenet.train()\n",
    "    end_time = time.time()\n",
    "\n",
    "    print(\"Training time:\", end_time - start_time)\n",
    "\n",
    "    plt.plot(bert_resnet_with_concat.train_loss, label=\"BertResnetWithConcat\")\n",
    "    plt.plot(bert_resnet_with_attention.train_loss, label=\"BertResnetWithAttention\")\n",
    "    plt.plot(bert_densenet_with_concat.train_loss, label=\"BertDensenetWithConcat\")\n",
    "    plt.plot(bert_densenet_with_attention.train_loss, label=\"BertDensenetWithAttention\")\n",
    "    plt.plot(resnet.train_loss, label=\"Resnet Only\")\n",
    "    plt.plot(bert.train_loss, label=\"Bert Only\")\n",
    "    plt.plot(densenet.train_loss, label=\"Densenet Only\")\n",
    "    plt.title(\"Train Loss\")\n",
    "    plt.legend()\n",
    "    plt.show()\n",
    "\n",
    "    plt.plot(bert_resnet_with_concat.val_accuracy, label=\"BertResnetWithConcat\")\n",
    "    plt.plot(bert_resnet_with_attention.val_accuracy, label=\"BertResnetWithAttention\")\n",
    "    plt.plot(bert_densenet_with_concat.val_accuracy, label=\"BertDensenetWithConcat\")\n",
    "    plt.plot(\n",
    "        bert_densenet_with_attention.val_accuracy, label=\"BertDensenetWithAttention\"\n",
    "    )\n",
    "    plt.plot(resnet.val_accuracy, label=\"Resnet Only\")\n",
    "    plt.plot(bert.val_accuracy, label=\"Bert Only\")\n",
    "    plt.plot(densenet.val_accuracy, label=\"Densenet Only\")\n",
    "    plt.title(\"Validation Accuracy\")\n",
    "    plt.legend()\n",
    "    plt.show()"
   ]
  },
  {
   "cell_type": "code",
   "execution_count": 8,
   "id": "401a6815",
   "metadata": {
    "execution": {
     "iopub.execute_input": "2024-01-31T11:36:00.936193Z",
     "iopub.status.busy": "2024-01-31T11:36:00.935814Z",
     "iopub.status.idle": "2024-01-31T11:46:22.563692Z",
     "shell.execute_reply": "2024-01-31T11:46:22.562740Z"
    },
    "papermill": {
     "duration": 622.132801,
     "end_time": "2024-01-31T11:46:22.565859",
     "exception": false,
     "start_time": "2024-01-31T11:36:00.433058",
     "status": "completed"
    },
    "tags": []
   },
   "outputs": [
    {
     "name": "stdout",
     "output_type": "stream",
     "text": [
      "===== Data Info =====\n",
      "tag\n",
      "positive    2388\n",
      "negative    1193\n",
      "neutral      419\n",
      "Name: count, dtype: int64\n",
      "\n",
      "Train size: 3200\n",
      "Val size: 800\n",
      "Test size: 511 \n",
      "\n",
      "Loading dataset...\n",
      "\n",
      "===== Traning Info =====\n",
      "Device: cuda\n",
      "Batch size: 16\n",
      "Model: BertDensenetWithCrossAttention\n",
      "\n",
      "==== Starting Train ====\n"
     ]
    },
    {
     "name": "stderr",
     "output_type": "stream",
     "text": [
      "100%|██████████| 200/200 [02:00<00:00,  1.66it/s]\n"
     ]
    },
    {
     "name": "stdout",
     "output_type": "stream",
     "text": [
      "Train Epoch 1\n",
      "Train set: \n",
      "Loss: 0.8182583798468113, Accuracy: 0.6365625\n",
      "Valid set: \n",
      "Loss: 0.7047787576913833, Accuracy: 0.71, Precision: 0.7028286432737554, Recall: 0.5622351379292186, F1: 0.5573259647448802\n"
     ]
    },
    {
     "name": "stderr",
     "output_type": "stream",
     "text": [
      "100%|██████████| 200/200 [01:59<00:00,  1.67it/s]\n"
     ]
    },
    {
     "name": "stdout",
     "output_type": "stream",
     "text": [
      "Train Epoch 2\n",
      "Train set: \n",
      "Loss: 0.5425574917346239, Accuracy: 0.7828125\n",
      "Valid set: \n",
      "Loss: 0.7118367427587509, Accuracy: 0.71875, Precision: 0.643425979876645, Recall: 0.5804123219000118, F1: 0.584184987464747\n"
     ]
    },
    {
     "name": "stderr",
     "output_type": "stream",
     "text": [
      "100%|██████████| 200/200 [01:59<00:00,  1.67it/s]\n"
     ]
    },
    {
     "name": "stdout",
     "output_type": "stream",
     "text": [
      "Train Epoch 3\n",
      "Train set: \n",
      "Loss: 0.3441022937744856, Accuracy: 0.874375\n",
      "Valid set: \n",
      "Loss: 0.8002323782444001, Accuracy: 0.71375, Precision: 0.6378357020303, Recall: 0.5884065006642273, F1: 0.5965659441596906\n"
     ]
    },
    {
     "name": "stderr",
     "output_type": "stream",
     "text": [
      "100%|██████████| 200/200 [01:59<00:00,  1.67it/s]\n"
     ]
    },
    {
     "name": "stdout",
     "output_type": "stream",
     "text": [
      "Train Epoch 4\n",
      "Train set: \n",
      "Loss: 0.18960339413955807, Accuracy: 0.940625\n",
      "Valid set: \n",
      "Loss: 0.8699598011374473, Accuracy: 0.705, Precision: 0.6143803026051361, Recall: 0.5707453693310163, F1: 0.5840671301984707\n",
      "Early stop...\n",
      "The training epoch is 4\n",
      "Choose model with best accuracy: 0.71875, with:\n",
      "Precision: 0.643425979876645\n",
      "Recall: 0.5804123219000118\n",
      "F1: 0.584184987464747\n",
      "Training time: 573.195264339447\n",
      "Predict and save test result...\n"
     ]
    },
    {
     "name": "stderr",
     "output_type": "stream",
     "text": [
      "100%|██████████| 32/32 [00:14<00:00,  2.20it/s]"
     ]
    },
    {
     "name": "stdout",
     "output_type": "stream",
     "text": [
      "Save successfully!\n"
     ]
    },
    {
     "name": "stderr",
     "output_type": "stream",
     "text": [
      "\n"
     ]
    }
   ],
   "source": [
    "import time\n",
    "\n",
    "if __name__ == \"__main__\":\n",
    "    model = Model(model=3)\n",
    "\n",
    "    start_time = time.time()\n",
    "    model.train()\n",
    "    end_time = time.time()\n",
    "\n",
    "    print(\"Training time:\", end_time - start_time)\n",
    "    model.save_test_result()"
   ]
  }
 ],
 "metadata": {
  "kaggle": {
   "accelerator": "gpu",
   "dataSources": [
    {
     "datasetId": 4372797,
     "sourceId": 7508232,
     "sourceType": "datasetVersion"
    }
   ],
   "dockerImageVersionId": 30636,
   "isGpuEnabled": true,
   "isInternetEnabled": true,
   "language": "python",
   "sourceType": "notebook"
  },
  "kernelspec": {
   "display_name": "Python 3",
   "language": "python",
   "name": "python3"
  },
  "language_info": {
   "codemirror_mode": {
    "name": "ipython",
    "version": 3
   },
   "file_extension": ".py",
   "mimetype": "text/x-python",
   "name": "python",
   "nbconvert_exporter": "python",
   "pygments_lexer": "ipython3",
   "version": "3.10.12"
  },
  "papermill": {
   "default_parameters": {},
   "duration": 4645.977891,
   "end_time": "2024-01-31T11:46:27.497060",
   "environment_variables": {},
   "exception": null,
   "input_path": "__notebook__.ipynb",
   "output_path": "__notebook__.ipynb",
   "parameters": {},
   "start_time": "2024-01-31T10:29:01.519169",
   "version": "2.4.0"
  },
  "widgets": {
   "application/vnd.jupyter.widget-state+json": {
    "state": {
     "022506a0337a43b982732d5879779e66": {
      "model_module": "@jupyter-widgets/controls",
      "model_module_version": "1.5.0",
      "model_name": "ProgressStyleModel",
      "state": {
       "_model_module": "@jupyter-widgets/controls",
       "_model_module_version": "1.5.0",
       "_model_name": "ProgressStyleModel",
       "_view_count": null,
       "_view_module": "@jupyter-widgets/base",
       "_view_module_version": "1.2.0",
       "_view_name": "StyleView",
       "bar_color": null,
       "description_width": ""
      }
     },
     "04250c5c949247ef83557f451c6ac6cb": {
      "model_module": "@jupyter-widgets/base",
      "model_module_version": "1.2.0",
      "model_name": "LayoutModel",
      "state": {
       "_model_module": "@jupyter-widgets/base",
       "_model_module_version": "1.2.0",
       "_model_name": "LayoutModel",
       "_view_count": null,
       "_view_module": "@jupyter-widgets/base",
       "_view_module_version": "1.2.0",
       "_view_name": "LayoutView",
       "align_content": null,
       "align_items": null,
       "align_self": null,
       "border": null,
       "bottom": null,
       "display": null,
       "flex": null,
       "flex_flow": null,
       "grid_area": null,
       "grid_auto_columns": null,
       "grid_auto_flow": null,
       "grid_auto_rows": null,
       "grid_column": null,
       "grid_gap": null,
       "grid_row": null,
       "grid_template_areas": null,
       "grid_template_columns": null,
       "grid_template_rows": null,
       "height": null,
       "justify_content": null,
       "justify_items": null,
       "left": null,
       "margin": null,
       "max_height": null,
       "max_width": null,
       "min_height": null,
       "min_width": null,
       "object_fit": null,
       "object_position": null,
       "order": null,
       "overflow": null,
       "overflow_x": null,
       "overflow_y": null,
       "padding": null,
       "right": null,
       "top": null,
       "visibility": null,
       "width": null
      }
     },
     "0d448641d5b6444d9a2e212996df3a0b": {
      "model_module": "@jupyter-widgets/controls",
      "model_module_version": "1.5.0",
      "model_name": "FloatProgressModel",
      "state": {
       "_dom_classes": [],
       "_model_module": "@jupyter-widgets/controls",
       "_model_module_version": "1.5.0",
       "_model_name": "FloatProgressModel",
       "_view_count": null,
       "_view_module": "@jupyter-widgets/controls",
       "_view_module_version": "1.5.0",
       "_view_name": "ProgressView",
       "bar_style": "success",
       "description": "",
       "description_tooltip": null,
       "layout": "IPY_MODEL_e7b950f0a80245dbba49a512b346452d",
       "max": 231508.0,
       "min": 0.0,
       "orientation": "horizontal",
       "style": "IPY_MODEL_022506a0337a43b982732d5879779e66",
       "value": 231508.0
      }
     },
     "0e4fc9ae28a84136a3fe9c9c5d8ced48": {
      "model_module": "@jupyter-widgets/base",
      "model_module_version": "1.2.0",
      "model_name": "LayoutModel",
      "state": {
       "_model_module": "@jupyter-widgets/base",
       "_model_module_version": "1.2.0",
       "_model_name": "LayoutModel",
       "_view_count": null,
       "_view_module": "@jupyter-widgets/base",
       "_view_module_version": "1.2.0",
       "_view_name": "LayoutView",
       "align_content": null,
       "align_items": null,
       "align_self": null,
       "border": null,
       "bottom": null,
       "display": null,
       "flex": null,
       "flex_flow": null,
       "grid_area": null,
       "grid_auto_columns": null,
       "grid_auto_flow": null,
       "grid_auto_rows": null,
       "grid_column": null,
       "grid_gap": null,
       "grid_row": null,
       "grid_template_areas": null,
       "grid_template_columns": null,
       "grid_template_rows": null,
       "height": null,
       "justify_content": null,
       "justify_items": null,
       "left": null,
       "margin": null,
       "max_height": null,
       "max_width": null,
       "min_height": null,
       "min_width": null,
       "object_fit": null,
       "object_position": null,
       "order": null,
       "overflow": null,
       "overflow_x": null,
       "overflow_y": null,
       "padding": null,
       "right": null,
       "top": null,
       "visibility": null,
       "width": null
      }
     },
     "172f9854d9f84169b093daae19a25a55": {
      "model_module": "@jupyter-widgets/base",
      "model_module_version": "1.2.0",
      "model_name": "LayoutModel",
      "state": {
       "_model_module": "@jupyter-widgets/base",
       "_model_module_version": "1.2.0",
       "_model_name": "LayoutModel",
       "_view_count": null,
       "_view_module": "@jupyter-widgets/base",
       "_view_module_version": "1.2.0",
       "_view_name": "LayoutView",
       "align_content": null,
       "align_items": null,
       "align_self": null,
       "border": null,
       "bottom": null,
       "display": null,
       "flex": null,
       "flex_flow": null,
       "grid_area": null,
       "grid_auto_columns": null,
       "grid_auto_flow": null,
       "grid_auto_rows": null,
       "grid_column": null,
       "grid_gap": null,
       "grid_row": null,
       "grid_template_areas": null,
       "grid_template_columns": null,
       "grid_template_rows": null,
       "height": null,
       "justify_content": null,
       "justify_items": null,
       "left": null,
       "margin": null,
       "max_height": null,
       "max_width": null,
       "min_height": null,
       "min_width": null,
       "object_fit": null,
       "object_position": null,
       "order": null,
       "overflow": null,
       "overflow_x": null,
       "overflow_y": null,
       "padding": null,
       "right": null,
       "top": null,
       "visibility": null,
       "width": null
      }
     },
     "1c2cecd8527249159a8682b10b803224": {
      "model_module": "@jupyter-widgets/controls",
      "model_module_version": "1.5.0",
      "model_name": "HTMLModel",
      "state": {
       "_dom_classes": [],
       "_model_module": "@jupyter-widgets/controls",
       "_model_module_version": "1.5.0",
       "_model_name": "HTMLModel",
       "_view_count": null,
       "_view_module": "@jupyter-widgets/controls",
       "_view_module_version": "1.5.0",
       "_view_name": "HTMLView",
       "description": "",
       "description_tooltip": null,
       "layout": "IPY_MODEL_9f59efb74e694f7891d6753a4407e44b",
       "placeholder": "​",
       "style": "IPY_MODEL_497c35be7e9d4c618b969de1b7e7016c",
       "value": "vocab.txt: 100%"
      }
     },
     "1ef045defad948679133a68926de5d51": {
      "model_module": "@jupyter-widgets/base",
      "model_module_version": "1.2.0",
      "model_name": "LayoutModel",
      "state": {
       "_model_module": "@jupyter-widgets/base",
       "_model_module_version": "1.2.0",
       "_model_name": "LayoutModel",
       "_view_count": null,
       "_view_module": "@jupyter-widgets/base",
       "_view_module_version": "1.2.0",
       "_view_name": "LayoutView",
       "align_content": null,
       "align_items": null,
       "align_self": null,
       "border": null,
       "bottom": null,
       "display": null,
       "flex": null,
       "flex_flow": null,
       "grid_area": null,
       "grid_auto_columns": null,
       "grid_auto_flow": null,
       "grid_auto_rows": null,
       "grid_column": null,
       "grid_gap": null,
       "grid_row": null,
       "grid_template_areas": null,
       "grid_template_columns": null,
       "grid_template_rows": null,
       "height": null,
       "justify_content": null,
       "justify_items": null,
       "left": null,
       "margin": null,
       "max_height": null,
       "max_width": null,
       "min_height": null,
       "min_width": null,
       "object_fit": null,
       "object_position": null,
       "order": null,
       "overflow": null,
       "overflow_x": null,
       "overflow_y": null,
       "padding": null,
       "right": null,
       "top": null,
       "visibility": null,
       "width": null
      }
     },
     "1f67f703912f418eb23ba9201c725f1e": {
      "model_module": "@jupyter-widgets/controls",
      "model_module_version": "1.5.0",
      "model_name": "HBoxModel",
      "state": {
       "_dom_classes": [],
       "_model_module": "@jupyter-widgets/controls",
       "_model_module_version": "1.5.0",
       "_model_name": "HBoxModel",
       "_view_count": null,
       "_view_module": "@jupyter-widgets/controls",
       "_view_module_version": "1.5.0",
       "_view_name": "HBoxView",
       "box_style": "",
       "children": [
        "IPY_MODEL_32638c8736a54b689862e84535b98625",
        "IPY_MODEL_74e1ee5c5a1445f58c84fb54a2052757",
        "IPY_MODEL_21ed6d98866b4186bf583dda3156066d"
       ],
       "layout": "IPY_MODEL_6590c324b8884fb983d91e8246760bbc"
      }
     },
     "21ed6d98866b4186bf583dda3156066d": {
      "model_module": "@jupyter-widgets/controls",
      "model_module_version": "1.5.0",
      "model_name": "HTMLModel",
      "state": {
       "_dom_classes": [],
       "_model_module": "@jupyter-widgets/controls",
       "_model_module_version": "1.5.0",
       "_model_name": "HTMLModel",
       "_view_count": null,
       "_view_module": "@jupyter-widgets/controls",
       "_view_module_version": "1.5.0",
       "_view_name": "HTMLView",
       "description": "",
       "description_tooltip": null,
       "layout": "IPY_MODEL_d2127d8afef842488f1dd08d6c8eceff",
       "placeholder": "​",
       "style": "IPY_MODEL_3d857f2a4fa24921b1e837a90f4d9424",
       "value": " 466k/466k [00:00&lt;00:00, 794kB/s]"
      }
     },
     "28cae49563554b98b087c8b8ede67c19": {
      "model_module": "@jupyter-widgets/controls",
      "model_module_version": "1.5.0",
      "model_name": "HTMLModel",
      "state": {
       "_dom_classes": [],
       "_model_module": "@jupyter-widgets/controls",
       "_model_module_version": "1.5.0",
       "_model_name": "HTMLModel",
       "_view_count": null,
       "_view_module": "@jupyter-widgets/controls",
       "_view_module_version": "1.5.0",
       "_view_name": "HTMLView",
       "description": "",
       "description_tooltip": null,
       "layout": "IPY_MODEL_47d058e380484984a2804454c0c0e449",
       "placeholder": "​",
       "style": "IPY_MODEL_d42d9ed3c68743cebdc11744d26a630d",
       "value": " 28.0/28.0 [00:00&lt;00:00, 2.30kB/s]"
      }
     },
     "2bd97b44ba5a4cd1bf651a9207a4315b": {
      "model_module": "@jupyter-widgets/controls",
      "model_module_version": "1.5.0",
      "model_name": "ProgressStyleModel",
      "state": {
       "_model_module": "@jupyter-widgets/controls",
       "_model_module_version": "1.5.0",
       "_model_name": "ProgressStyleModel",
       "_view_count": null,
       "_view_module": "@jupyter-widgets/base",
       "_view_module_version": "1.2.0",
       "_view_name": "StyleView",
       "bar_color": null,
       "description_width": ""
      }
     },
     "32638c8736a54b689862e84535b98625": {
      "model_module": "@jupyter-widgets/controls",
      "model_module_version": "1.5.0",
      "model_name": "HTMLModel",
      "state": {
       "_dom_classes": [],
       "_model_module": "@jupyter-widgets/controls",
       "_model_module_version": "1.5.0",
       "_model_name": "HTMLModel",
       "_view_count": null,
       "_view_module": "@jupyter-widgets/controls",
       "_view_module_version": "1.5.0",
       "_view_name": "HTMLView",
       "description": "",
       "description_tooltip": null,
       "layout": "IPY_MODEL_d853058c93bd430891fdb48a105671aa",
       "placeholder": "​",
       "style": "IPY_MODEL_e32e28be16174075b2451cb7a72483a6",
       "value": "tokenizer.json: 100%"
      }
     },
     "37925121838e4205ba310d9fd56bedba": {
      "model_module": "@jupyter-widgets/controls",
      "model_module_version": "1.5.0",
      "model_name": "ProgressStyleModel",
      "state": {
       "_model_module": "@jupyter-widgets/controls",
       "_model_module_version": "1.5.0",
       "_model_name": "ProgressStyleModel",
       "_view_count": null,
       "_view_module": "@jupyter-widgets/base",
       "_view_module_version": "1.2.0",
       "_view_name": "StyleView",
       "bar_color": null,
       "description_width": ""
      }
     },
     "38a34fb31eab4d989caabd3e9a02ea09": {
      "model_module": "@jupyter-widgets/controls",
      "model_module_version": "1.5.0",
      "model_name": "HBoxModel",
      "state": {
       "_dom_classes": [],
       "_model_module": "@jupyter-widgets/controls",
       "_model_module_version": "1.5.0",
       "_model_name": "HBoxModel",
       "_view_count": null,
       "_view_module": "@jupyter-widgets/controls",
       "_view_module_version": "1.5.0",
       "_view_name": "HBoxView",
       "box_style": "",
       "children": [
        "IPY_MODEL_1c2cecd8527249159a8682b10b803224",
        "IPY_MODEL_0d448641d5b6444d9a2e212996df3a0b",
        "IPY_MODEL_676715086e1444b9845bd515587c8699"
       ],
       "layout": "IPY_MODEL_c70e11a9f4934028869d045673192678"
      }
     },
     "392339b6773d471c937271c8776d7c1b": {
      "model_module": "@jupyter-widgets/controls",
      "model_module_version": "1.5.0",
      "model_name": "HTMLModel",
      "state": {
       "_dom_classes": [],
       "_model_module": "@jupyter-widgets/controls",
       "_model_module_version": "1.5.0",
       "_model_name": "HTMLModel",
       "_view_count": null,
       "_view_module": "@jupyter-widgets/controls",
       "_view_module_version": "1.5.0",
       "_view_name": "HTMLView",
       "description": "",
       "description_tooltip": null,
       "layout": "IPY_MODEL_0e4fc9ae28a84136a3fe9c9c5d8ced48",
       "placeholder": "​",
       "style": "IPY_MODEL_59556bd9817b4c8fb9a5c2c2dba71f48",
       "value": " 440M/440M [00:11&lt;00:00, 42.4MB/s]"
      }
     },
     "3d857f2a4fa24921b1e837a90f4d9424": {
      "model_module": "@jupyter-widgets/controls",
      "model_module_version": "1.5.0",
      "model_name": "DescriptionStyleModel",
      "state": {
       "_model_module": "@jupyter-widgets/controls",
       "_model_module_version": "1.5.0",
       "_model_name": "DescriptionStyleModel",
       "_view_count": null,
       "_view_module": "@jupyter-widgets/base",
       "_view_module_version": "1.2.0",
       "_view_name": "StyleView",
       "description_width": ""
      }
     },
     "407d761ff9ea4d1daaf563d2b3816bac": {
      "model_module": "@jupyter-widgets/base",
      "model_module_version": "1.2.0",
      "model_name": "LayoutModel",
      "state": {
       "_model_module": "@jupyter-widgets/base",
       "_model_module_version": "1.2.0",
       "_model_name": "LayoutModel",
       "_view_count": null,
       "_view_module": "@jupyter-widgets/base",
       "_view_module_version": "1.2.0",
       "_view_name": "LayoutView",
       "align_content": null,
       "align_items": null,
       "align_self": null,
       "border": null,
       "bottom": null,
       "display": null,
       "flex": null,
       "flex_flow": null,
       "grid_area": null,
       "grid_auto_columns": null,
       "grid_auto_flow": null,
       "grid_auto_rows": null,
       "grid_column": null,
       "grid_gap": null,
       "grid_row": null,
       "grid_template_areas": null,
       "grid_template_columns": null,
       "grid_template_rows": null,
       "height": null,
       "justify_content": null,
       "justify_items": null,
       "left": null,
       "margin": null,
       "max_height": null,
       "max_width": null,
       "min_height": null,
       "min_width": null,
       "object_fit": null,
       "object_position": null,
       "order": null,
       "overflow": null,
       "overflow_x": null,
       "overflow_y": null,
       "padding": null,
       "right": null,
       "top": null,
       "visibility": null,
       "width": null
      }
     },
     "47d058e380484984a2804454c0c0e449": {
      "model_module": "@jupyter-widgets/base",
      "model_module_version": "1.2.0",
      "model_name": "LayoutModel",
      "state": {
       "_model_module": "@jupyter-widgets/base",
       "_model_module_version": "1.2.0",
       "_model_name": "LayoutModel",
       "_view_count": null,
       "_view_module": "@jupyter-widgets/base",
       "_view_module_version": "1.2.0",
       "_view_name": "LayoutView",
       "align_content": null,
       "align_items": null,
       "align_self": null,
       "border": null,
       "bottom": null,
       "display": null,
       "flex": null,
       "flex_flow": null,
       "grid_area": null,
       "grid_auto_columns": null,
       "grid_auto_flow": null,
       "grid_auto_rows": null,
       "grid_column": null,
       "grid_gap": null,
       "grid_row": null,
       "grid_template_areas": null,
       "grid_template_columns": null,
       "grid_template_rows": null,
       "height": null,
       "justify_content": null,
       "justify_items": null,
       "left": null,
       "margin": null,
       "max_height": null,
       "max_width": null,
       "min_height": null,
       "min_width": null,
       "object_fit": null,
       "object_position": null,
       "order": null,
       "overflow": null,
       "overflow_x": null,
       "overflow_y": null,
       "padding": null,
       "right": null,
       "top": null,
       "visibility": null,
       "width": null
      }
     },
     "497c35be7e9d4c618b969de1b7e7016c": {
      "model_module": "@jupyter-widgets/controls",
      "model_module_version": "1.5.0",
      "model_name": "DescriptionStyleModel",
      "state": {
       "_model_module": "@jupyter-widgets/controls",
       "_model_module_version": "1.5.0",
       "_model_name": "DescriptionStyleModel",
       "_view_count": null,
       "_view_module": "@jupyter-widgets/base",
       "_view_module_version": "1.2.0",
       "_view_name": "StyleView",
       "description_width": ""
      }
     },
     "4d7c0d11c59b4594a0d37c8f34a2c153": {
      "model_module": "@jupyter-widgets/controls",
      "model_module_version": "1.5.0",
      "model_name": "DescriptionStyleModel",
      "state": {
       "_model_module": "@jupyter-widgets/controls",
       "_model_module_version": "1.5.0",
       "_model_name": "DescriptionStyleModel",
       "_view_count": null,
       "_view_module": "@jupyter-widgets/base",
       "_view_module_version": "1.2.0",
       "_view_name": "StyleView",
       "description_width": ""
      }
     },
     "529dedb8ddc54caba98e1128d7b4a351": {
      "model_module": "@jupyter-widgets/controls",
      "model_module_version": "1.5.0",
      "model_name": "HTMLModel",
      "state": {
       "_dom_classes": [],
       "_model_module": "@jupyter-widgets/controls",
       "_model_module_version": "1.5.0",
       "_model_name": "HTMLModel",
       "_view_count": null,
       "_view_module": "@jupyter-widgets/controls",
       "_view_module_version": "1.5.0",
       "_view_name": "HTMLView",
       "description": "",
       "description_tooltip": null,
       "layout": "IPY_MODEL_ced59f85c861411ebdc54f243f50258b",
       "placeholder": "​",
       "style": "IPY_MODEL_750c2c8c9aa4492ebd4ffcabfffd4a93",
       "value": "tokenizer_config.json: 100%"
      }
     },
     "55020898305c4515a5b4ac9232820a98": {
      "model_module": "@jupyter-widgets/controls",
      "model_module_version": "1.5.0",
      "model_name": "HTMLModel",
      "state": {
       "_dom_classes": [],
       "_model_module": "@jupyter-widgets/controls",
       "_model_module_version": "1.5.0",
       "_model_name": "HTMLModel",
       "_view_count": null,
       "_view_module": "@jupyter-widgets/controls",
       "_view_module_version": "1.5.0",
       "_view_name": "HTMLView",
       "description": "",
       "description_tooltip": null,
       "layout": "IPY_MODEL_5c02937e1f67485b8179dcc1674a793c",
       "placeholder": "​",
       "style": "IPY_MODEL_b6209ab5a6d043e19f124deeb78161b5",
       "value": " 570/570 [00:00&lt;00:00, 42.5kB/s]"
      }
     },
     "59556bd9817b4c8fb9a5c2c2dba71f48": {
      "model_module": "@jupyter-widgets/controls",
      "model_module_version": "1.5.0",
      "model_name": "DescriptionStyleModel",
      "state": {
       "_model_module": "@jupyter-widgets/controls",
       "_model_module_version": "1.5.0",
       "_model_name": "DescriptionStyleModel",
       "_view_count": null,
       "_view_module": "@jupyter-widgets/base",
       "_view_module_version": "1.2.0",
       "_view_name": "StyleView",
       "description_width": ""
      }
     },
     "5c02937e1f67485b8179dcc1674a793c": {
      "model_module": "@jupyter-widgets/base",
      "model_module_version": "1.2.0",
      "model_name": "LayoutModel",
      "state": {
       "_model_module": "@jupyter-widgets/base",
       "_model_module_version": "1.2.0",
       "_model_name": "LayoutModel",
       "_view_count": null,
       "_view_module": "@jupyter-widgets/base",
       "_view_module_version": "1.2.0",
       "_view_name": "LayoutView",
       "align_content": null,
       "align_items": null,
       "align_self": null,
       "border": null,
       "bottom": null,
       "display": null,
       "flex": null,
       "flex_flow": null,
       "grid_area": null,
       "grid_auto_columns": null,
       "grid_auto_flow": null,
       "grid_auto_rows": null,
       "grid_column": null,
       "grid_gap": null,
       "grid_row": null,
       "grid_template_areas": null,
       "grid_template_columns": null,
       "grid_template_rows": null,
       "height": null,
       "justify_content": null,
       "justify_items": null,
       "left": null,
       "margin": null,
       "max_height": null,
       "max_width": null,
       "min_height": null,
       "min_width": null,
       "object_fit": null,
       "object_position": null,
       "order": null,
       "overflow": null,
       "overflow_x": null,
       "overflow_y": null,
       "padding": null,
       "right": null,
       "top": null,
       "visibility": null,
       "width": null
      }
     },
     "5d073ae86f5049a0826750fbc609e473": {
      "model_module": "@jupyter-widgets/base",
      "model_module_version": "1.2.0",
      "model_name": "LayoutModel",
      "state": {
       "_model_module": "@jupyter-widgets/base",
       "_model_module_version": "1.2.0",
       "_model_name": "LayoutModel",
       "_view_count": null,
       "_view_module": "@jupyter-widgets/base",
       "_view_module_version": "1.2.0",
       "_view_name": "LayoutView",
       "align_content": null,
       "align_items": null,
       "align_self": null,
       "border": null,
       "bottom": null,
       "display": null,
       "flex": null,
       "flex_flow": null,
       "grid_area": null,
       "grid_auto_columns": null,
       "grid_auto_flow": null,
       "grid_auto_rows": null,
       "grid_column": null,
       "grid_gap": null,
       "grid_row": null,
       "grid_template_areas": null,
       "grid_template_columns": null,
       "grid_template_rows": null,
       "height": null,
       "justify_content": null,
       "justify_items": null,
       "left": null,
       "margin": null,
       "max_height": null,
       "max_width": null,
       "min_height": null,
       "min_width": null,
       "object_fit": null,
       "object_position": null,
       "order": null,
       "overflow": null,
       "overflow_x": null,
       "overflow_y": null,
       "padding": null,
       "right": null,
       "top": null,
       "visibility": null,
       "width": null
      }
     },
     "6590c324b8884fb983d91e8246760bbc": {
      "model_module": "@jupyter-widgets/base",
      "model_module_version": "1.2.0",
      "model_name": "LayoutModel",
      "state": {
       "_model_module": "@jupyter-widgets/base",
       "_model_module_version": "1.2.0",
       "_model_name": "LayoutModel",
       "_view_count": null,
       "_view_module": "@jupyter-widgets/base",
       "_view_module_version": "1.2.0",
       "_view_name": "LayoutView",
       "align_content": null,
       "align_items": null,
       "align_self": null,
       "border": null,
       "bottom": null,
       "display": null,
       "flex": null,
       "flex_flow": null,
       "grid_area": null,
       "grid_auto_columns": null,
       "grid_auto_flow": null,
       "grid_auto_rows": null,
       "grid_column": null,
       "grid_gap": null,
       "grid_row": null,
       "grid_template_areas": null,
       "grid_template_columns": null,
       "grid_template_rows": null,
       "height": null,
       "justify_content": null,
       "justify_items": null,
       "left": null,
       "margin": null,
       "max_height": null,
       "max_width": null,
       "min_height": null,
       "min_width": null,
       "object_fit": null,
       "object_position": null,
       "order": null,
       "overflow": null,
       "overflow_x": null,
       "overflow_y": null,
       "padding": null,
       "right": null,
       "top": null,
       "visibility": null,
       "width": null
      }
     },
     "676715086e1444b9845bd515587c8699": {
      "model_module": "@jupyter-widgets/controls",
      "model_module_version": "1.5.0",
      "model_name": "HTMLModel",
      "state": {
       "_dom_classes": [],
       "_model_module": "@jupyter-widgets/controls",
       "_model_module_version": "1.5.0",
       "_model_name": "HTMLModel",
       "_view_count": null,
       "_view_module": "@jupyter-widgets/controls",
       "_view_module_version": "1.5.0",
       "_view_name": "HTMLView",
       "description": "",
       "description_tooltip": null,
       "layout": "IPY_MODEL_dcf4860a631642e28c362cde4122c449",
       "placeholder": "​",
       "style": "IPY_MODEL_4d7c0d11c59b4594a0d37c8f34a2c153",
       "value": " 232k/232k [00:00&lt;00:00, 1.13MB/s]"
      }
     },
     "74e1ee5c5a1445f58c84fb54a2052757": {
      "model_module": "@jupyter-widgets/controls",
      "model_module_version": "1.5.0",
      "model_name": "FloatProgressModel",
      "state": {
       "_dom_classes": [],
       "_model_module": "@jupyter-widgets/controls",
       "_model_module_version": "1.5.0",
       "_model_name": "FloatProgressModel",
       "_view_count": null,
       "_view_module": "@jupyter-widgets/controls",
       "_view_module_version": "1.5.0",
       "_view_name": "ProgressView",
       "bar_style": "success",
       "description": "",
       "description_tooltip": null,
       "layout": "IPY_MODEL_8fd7766366c14c8dbafe100d93cdec5d",
       "max": 466062.0,
       "min": 0.0,
       "orientation": "horizontal",
       "style": "IPY_MODEL_37925121838e4205ba310d9fd56bedba",
       "value": 466062.0
      }
     },
     "750c2c8c9aa4492ebd4ffcabfffd4a93": {
      "model_module": "@jupyter-widgets/controls",
      "model_module_version": "1.5.0",
      "model_name": "DescriptionStyleModel",
      "state": {
       "_model_module": "@jupyter-widgets/controls",
       "_model_module_version": "1.5.0",
       "_model_name": "DescriptionStyleModel",
       "_view_count": null,
       "_view_module": "@jupyter-widgets/base",
       "_view_module_version": "1.2.0",
       "_view_name": "StyleView",
       "description_width": ""
      }
     },
     "773c7b4b21234c01beee58f5de81b8cf": {
      "model_module": "@jupyter-widgets/controls",
      "model_module_version": "1.5.0",
      "model_name": "HBoxModel",
      "state": {
       "_dom_classes": [],
       "_model_module": "@jupyter-widgets/controls",
       "_model_module_version": "1.5.0",
       "_model_name": "HBoxModel",
       "_view_count": null,
       "_view_module": "@jupyter-widgets/controls",
       "_view_module_version": "1.5.0",
       "_view_name": "HBoxView",
       "box_style": "",
       "children": [
        "IPY_MODEL_921b74d3056d41dbb67b274a8eec8fe1",
        "IPY_MODEL_bc60327b8d624b85ae6a6941ae749745",
        "IPY_MODEL_392339b6773d471c937271c8776d7c1b"
       ],
       "layout": "IPY_MODEL_04250c5c949247ef83557f451c6ac6cb"
      }
     },
     "8b050db8c4174b1bb69978c01a263aa6": {
      "model_module": "@jupyter-widgets/controls",
      "model_module_version": "1.5.0",
      "model_name": "ProgressStyleModel",
      "state": {
       "_model_module": "@jupyter-widgets/controls",
       "_model_module_version": "1.5.0",
       "_model_name": "ProgressStyleModel",
       "_view_count": null,
       "_view_module": "@jupyter-widgets/base",
       "_view_module_version": "1.2.0",
       "_view_name": "StyleView",
       "bar_color": null,
       "description_width": ""
      }
     },
     "8fd7766366c14c8dbafe100d93cdec5d": {
      "model_module": "@jupyter-widgets/base",
      "model_module_version": "1.2.0",
      "model_name": "LayoutModel",
      "state": {
       "_model_module": "@jupyter-widgets/base",
       "_model_module_version": "1.2.0",
       "_model_name": "LayoutModel",
       "_view_count": null,
       "_view_module": "@jupyter-widgets/base",
       "_view_module_version": "1.2.0",
       "_view_name": "LayoutView",
       "align_content": null,
       "align_items": null,
       "align_self": null,
       "border": null,
       "bottom": null,
       "display": null,
       "flex": null,
       "flex_flow": null,
       "grid_area": null,
       "grid_auto_columns": null,
       "grid_auto_flow": null,
       "grid_auto_rows": null,
       "grid_column": null,
       "grid_gap": null,
       "grid_row": null,
       "grid_template_areas": null,
       "grid_template_columns": null,
       "grid_template_rows": null,
       "height": null,
       "justify_content": null,
       "justify_items": null,
       "left": null,
       "margin": null,
       "max_height": null,
       "max_width": null,
       "min_height": null,
       "min_width": null,
       "object_fit": null,
       "object_position": null,
       "order": null,
       "overflow": null,
       "overflow_x": null,
       "overflow_y": null,
       "padding": null,
       "right": null,
       "top": null,
       "visibility": null,
       "width": null
      }
     },
     "921b74d3056d41dbb67b274a8eec8fe1": {
      "model_module": "@jupyter-widgets/controls",
      "model_module_version": "1.5.0",
      "model_name": "HTMLModel",
      "state": {
       "_dom_classes": [],
       "_model_module": "@jupyter-widgets/controls",
       "_model_module_version": "1.5.0",
       "_model_name": "HTMLModel",
       "_view_count": null,
       "_view_module": "@jupyter-widgets/controls",
       "_view_module_version": "1.5.0",
       "_view_name": "HTMLView",
       "description": "",
       "description_tooltip": null,
       "layout": "IPY_MODEL_b529195ffb3f4dd0997b358c12ad2a0a",
       "placeholder": "​",
       "style": "IPY_MODEL_f8081a7438db41e7932f72eea21363c9",
       "value": "model.safetensors: 100%"
      }
     },
     "97c5c561d73e4f5faf38dc7b628ed9cb": {
      "model_module": "@jupyter-widgets/base",
      "model_module_version": "1.2.0",
      "model_name": "LayoutModel",
      "state": {
       "_model_module": "@jupyter-widgets/base",
       "_model_module_version": "1.2.0",
       "_model_name": "LayoutModel",
       "_view_count": null,
       "_view_module": "@jupyter-widgets/base",
       "_view_module_version": "1.2.0",
       "_view_name": "LayoutView",
       "align_content": null,
       "align_items": null,
       "align_self": null,
       "border": null,
       "bottom": null,
       "display": null,
       "flex": null,
       "flex_flow": null,
       "grid_area": null,
       "grid_auto_columns": null,
       "grid_auto_flow": null,
       "grid_auto_rows": null,
       "grid_column": null,
       "grid_gap": null,
       "grid_row": null,
       "grid_template_areas": null,
       "grid_template_columns": null,
       "grid_template_rows": null,
       "height": null,
       "justify_content": null,
       "justify_items": null,
       "left": null,
       "margin": null,
       "max_height": null,
       "max_width": null,
       "min_height": null,
       "min_width": null,
       "object_fit": null,
       "object_position": null,
       "order": null,
       "overflow": null,
       "overflow_x": null,
       "overflow_y": null,
       "padding": null,
       "right": null,
       "top": null,
       "visibility": null,
       "width": null
      }
     },
     "998fa7870c724797ba4912c299fae882": {
      "model_module": "@jupyter-widgets/controls",
      "model_module_version": "1.5.0",
      "model_name": "FloatProgressModel",
      "state": {
       "_dom_classes": [],
       "_model_module": "@jupyter-widgets/controls",
       "_model_module_version": "1.5.0",
       "_model_name": "FloatProgressModel",
       "_view_count": null,
       "_view_module": "@jupyter-widgets/controls",
       "_view_module_version": "1.5.0",
       "_view_name": "ProgressView",
       "bar_style": "success",
       "description": "",
       "description_tooltip": null,
       "layout": "IPY_MODEL_5d073ae86f5049a0826750fbc609e473",
       "max": 570.0,
       "min": 0.0,
       "orientation": "horizontal",
       "style": "IPY_MODEL_b640ec7c47b840db93f2f7889a2c9791",
       "value": 570.0
      }
     },
     "9f59efb74e694f7891d6753a4407e44b": {
      "model_module": "@jupyter-widgets/base",
      "model_module_version": "1.2.0",
      "model_name": "LayoutModel",
      "state": {
       "_model_module": "@jupyter-widgets/base",
       "_model_module_version": "1.2.0",
       "_model_name": "LayoutModel",
       "_view_count": null,
       "_view_module": "@jupyter-widgets/base",
       "_view_module_version": "1.2.0",
       "_view_name": "LayoutView",
       "align_content": null,
       "align_items": null,
       "align_self": null,
       "border": null,
       "bottom": null,
       "display": null,
       "flex": null,
       "flex_flow": null,
       "grid_area": null,
       "grid_auto_columns": null,
       "grid_auto_flow": null,
       "grid_auto_rows": null,
       "grid_column": null,
       "grid_gap": null,
       "grid_row": null,
       "grid_template_areas": null,
       "grid_template_columns": null,
       "grid_template_rows": null,
       "height": null,
       "justify_content": null,
       "justify_items": null,
       "left": null,
       "margin": null,
       "max_height": null,
       "max_width": null,
       "min_height": null,
       "min_width": null,
       "object_fit": null,
       "object_position": null,
       "order": null,
       "overflow": null,
       "overflow_x": null,
       "overflow_y": null,
       "padding": null,
       "right": null,
       "top": null,
       "visibility": null,
       "width": null
      }
     },
     "b529195ffb3f4dd0997b358c12ad2a0a": {
      "model_module": "@jupyter-widgets/base",
      "model_module_version": "1.2.0",
      "model_name": "LayoutModel",
      "state": {
       "_model_module": "@jupyter-widgets/base",
       "_model_module_version": "1.2.0",
       "_model_name": "LayoutModel",
       "_view_count": null,
       "_view_module": "@jupyter-widgets/base",
       "_view_module_version": "1.2.0",
       "_view_name": "LayoutView",
       "align_content": null,
       "align_items": null,
       "align_self": null,
       "border": null,
       "bottom": null,
       "display": null,
       "flex": null,
       "flex_flow": null,
       "grid_area": null,
       "grid_auto_columns": null,
       "grid_auto_flow": null,
       "grid_auto_rows": null,
       "grid_column": null,
       "grid_gap": null,
       "grid_row": null,
       "grid_template_areas": null,
       "grid_template_columns": null,
       "grid_template_rows": null,
       "height": null,
       "justify_content": null,
       "justify_items": null,
       "left": null,
       "margin": null,
       "max_height": null,
       "max_width": null,
       "min_height": null,
       "min_width": null,
       "object_fit": null,
       "object_position": null,
       "order": null,
       "overflow": null,
       "overflow_x": null,
       "overflow_y": null,
       "padding": null,
       "right": null,
       "top": null,
       "visibility": null,
       "width": null
      }
     },
     "b6209ab5a6d043e19f124deeb78161b5": {
      "model_module": "@jupyter-widgets/controls",
      "model_module_version": "1.5.0",
      "model_name": "DescriptionStyleModel",
      "state": {
       "_model_module": "@jupyter-widgets/controls",
       "_model_module_version": "1.5.0",
       "_model_name": "DescriptionStyleModel",
       "_view_count": null,
       "_view_module": "@jupyter-widgets/base",
       "_view_module_version": "1.2.0",
       "_view_name": "StyleView",
       "description_width": ""
      }
     },
     "b640ec7c47b840db93f2f7889a2c9791": {
      "model_module": "@jupyter-widgets/controls",
      "model_module_version": "1.5.0",
      "model_name": "ProgressStyleModel",
      "state": {
       "_model_module": "@jupyter-widgets/controls",
       "_model_module_version": "1.5.0",
       "_model_name": "ProgressStyleModel",
       "_view_count": null,
       "_view_module": "@jupyter-widgets/base",
       "_view_module_version": "1.2.0",
       "_view_name": "StyleView",
       "bar_color": null,
       "description_width": ""
      }
     },
     "bc60327b8d624b85ae6a6941ae749745": {
      "model_module": "@jupyter-widgets/controls",
      "model_module_version": "1.5.0",
      "model_name": "FloatProgressModel",
      "state": {
       "_dom_classes": [],
       "_model_module": "@jupyter-widgets/controls",
       "_model_module_version": "1.5.0",
       "_model_name": "FloatProgressModel",
       "_view_count": null,
       "_view_module": "@jupyter-widgets/controls",
       "_view_module_version": "1.5.0",
       "_view_name": "ProgressView",
       "bar_style": "success",
       "description": "",
       "description_tooltip": null,
       "layout": "IPY_MODEL_172f9854d9f84169b093daae19a25a55",
       "max": 440449768.0,
       "min": 0.0,
       "orientation": "horizontal",
       "style": "IPY_MODEL_2bd97b44ba5a4cd1bf651a9207a4315b",
       "value": 440449768.0
      }
     },
     "bf0cd6ef8c85401e84694e7b9d542181": {
      "model_module": "@jupyter-widgets/controls",
      "model_module_version": "1.5.0",
      "model_name": "HTMLModel",
      "state": {
       "_dom_classes": [],
       "_model_module": "@jupyter-widgets/controls",
       "_model_module_version": "1.5.0",
       "_model_name": "HTMLModel",
       "_view_count": null,
       "_view_module": "@jupyter-widgets/controls",
       "_view_module_version": "1.5.0",
       "_view_name": "HTMLView",
       "description": "",
       "description_tooltip": null,
       "layout": "IPY_MODEL_97c5c561d73e4f5faf38dc7b628ed9cb",
       "placeholder": "​",
       "style": "IPY_MODEL_d9c14c8288b545259793d323ceb11376",
       "value": "config.json: 100%"
      }
     },
     "c2974b1b71c64ec188899b8dfdfb51c0": {
      "model_module": "@jupyter-widgets/controls",
      "model_module_version": "1.5.0",
      "model_name": "HBoxModel",
      "state": {
       "_dom_classes": [],
       "_model_module": "@jupyter-widgets/controls",
       "_model_module_version": "1.5.0",
       "_model_name": "HBoxModel",
       "_view_count": null,
       "_view_module": "@jupyter-widgets/controls",
       "_view_module_version": "1.5.0",
       "_view_name": "HBoxView",
       "box_style": "",
       "children": [
        "IPY_MODEL_529dedb8ddc54caba98e1128d7b4a351",
        "IPY_MODEL_da7a0cd47b7848e0988d235a4c808fa8",
        "IPY_MODEL_28cae49563554b98b087c8b8ede67c19"
       ],
       "layout": "IPY_MODEL_c4c31e77cf1944148ebec7d064a8b1ab"
      }
     },
     "c4c31e77cf1944148ebec7d064a8b1ab": {
      "model_module": "@jupyter-widgets/base",
      "model_module_version": "1.2.0",
      "model_name": "LayoutModel",
      "state": {
       "_model_module": "@jupyter-widgets/base",
       "_model_module_version": "1.2.0",
       "_model_name": "LayoutModel",
       "_view_count": null,
       "_view_module": "@jupyter-widgets/base",
       "_view_module_version": "1.2.0",
       "_view_name": "LayoutView",
       "align_content": null,
       "align_items": null,
       "align_self": null,
       "border": null,
       "bottom": null,
       "display": null,
       "flex": null,
       "flex_flow": null,
       "grid_area": null,
       "grid_auto_columns": null,
       "grid_auto_flow": null,
       "grid_auto_rows": null,
       "grid_column": null,
       "grid_gap": null,
       "grid_row": null,
       "grid_template_areas": null,
       "grid_template_columns": null,
       "grid_template_rows": null,
       "height": null,
       "justify_content": null,
       "justify_items": null,
       "left": null,
       "margin": null,
       "max_height": null,
       "max_width": null,
       "min_height": null,
       "min_width": null,
       "object_fit": null,
       "object_position": null,
       "order": null,
       "overflow": null,
       "overflow_x": null,
       "overflow_y": null,
       "padding": null,
       "right": null,
       "top": null,
       "visibility": null,
       "width": null
      }
     },
     "c70e11a9f4934028869d045673192678": {
      "model_module": "@jupyter-widgets/base",
      "model_module_version": "1.2.0",
      "model_name": "LayoutModel",
      "state": {
       "_model_module": "@jupyter-widgets/base",
       "_model_module_version": "1.2.0",
       "_model_name": "LayoutModel",
       "_view_count": null,
       "_view_module": "@jupyter-widgets/base",
       "_view_module_version": "1.2.0",
       "_view_name": "LayoutView",
       "align_content": null,
       "align_items": null,
       "align_self": null,
       "border": null,
       "bottom": null,
       "display": null,
       "flex": null,
       "flex_flow": null,
       "grid_area": null,
       "grid_auto_columns": null,
       "grid_auto_flow": null,
       "grid_auto_rows": null,
       "grid_column": null,
       "grid_gap": null,
       "grid_row": null,
       "grid_template_areas": null,
       "grid_template_columns": null,
       "grid_template_rows": null,
       "height": null,
       "justify_content": null,
       "justify_items": null,
       "left": null,
       "margin": null,
       "max_height": null,
       "max_width": null,
       "min_height": null,
       "min_width": null,
       "object_fit": null,
       "object_position": null,
       "order": null,
       "overflow": null,
       "overflow_x": null,
       "overflow_y": null,
       "padding": null,
       "right": null,
       "top": null,
       "visibility": null,
       "width": null
      }
     },
     "ced59f85c861411ebdc54f243f50258b": {
      "model_module": "@jupyter-widgets/base",
      "model_module_version": "1.2.0",
      "model_name": "LayoutModel",
      "state": {
       "_model_module": "@jupyter-widgets/base",
       "_model_module_version": "1.2.0",
       "_model_name": "LayoutModel",
       "_view_count": null,
       "_view_module": "@jupyter-widgets/base",
       "_view_module_version": "1.2.0",
       "_view_name": "LayoutView",
       "align_content": null,
       "align_items": null,
       "align_self": null,
       "border": null,
       "bottom": null,
       "display": null,
       "flex": null,
       "flex_flow": null,
       "grid_area": null,
       "grid_auto_columns": null,
       "grid_auto_flow": null,
       "grid_auto_rows": null,
       "grid_column": null,
       "grid_gap": null,
       "grid_row": null,
       "grid_template_areas": null,
       "grid_template_columns": null,
       "grid_template_rows": null,
       "height": null,
       "justify_content": null,
       "justify_items": null,
       "left": null,
       "margin": null,
       "max_height": null,
       "max_width": null,
       "min_height": null,
       "min_width": null,
       "object_fit": null,
       "object_position": null,
       "order": null,
       "overflow": null,
       "overflow_x": null,
       "overflow_y": null,
       "padding": null,
       "right": null,
       "top": null,
       "visibility": null,
       "width": null
      }
     },
     "d2127d8afef842488f1dd08d6c8eceff": {
      "model_module": "@jupyter-widgets/base",
      "model_module_version": "1.2.0",
      "model_name": "LayoutModel",
      "state": {
       "_model_module": "@jupyter-widgets/base",
       "_model_module_version": "1.2.0",
       "_model_name": "LayoutModel",
       "_view_count": null,
       "_view_module": "@jupyter-widgets/base",
       "_view_module_version": "1.2.0",
       "_view_name": "LayoutView",
       "align_content": null,
       "align_items": null,
       "align_self": null,
       "border": null,
       "bottom": null,
       "display": null,
       "flex": null,
       "flex_flow": null,
       "grid_area": null,
       "grid_auto_columns": null,
       "grid_auto_flow": null,
       "grid_auto_rows": null,
       "grid_column": null,
       "grid_gap": null,
       "grid_row": null,
       "grid_template_areas": null,
       "grid_template_columns": null,
       "grid_template_rows": null,
       "height": null,
       "justify_content": null,
       "justify_items": null,
       "left": null,
       "margin": null,
       "max_height": null,
       "max_width": null,
       "min_height": null,
       "min_width": null,
       "object_fit": null,
       "object_position": null,
       "order": null,
       "overflow": null,
       "overflow_x": null,
       "overflow_y": null,
       "padding": null,
       "right": null,
       "top": null,
       "visibility": null,
       "width": null
      }
     },
     "d42d9ed3c68743cebdc11744d26a630d": {
      "model_module": "@jupyter-widgets/controls",
      "model_module_version": "1.5.0",
      "model_name": "DescriptionStyleModel",
      "state": {
       "_model_module": "@jupyter-widgets/controls",
       "_model_module_version": "1.5.0",
       "_model_name": "DescriptionStyleModel",
       "_view_count": null,
       "_view_module": "@jupyter-widgets/base",
       "_view_module_version": "1.2.0",
       "_view_name": "StyleView",
       "description_width": ""
      }
     },
     "d853058c93bd430891fdb48a105671aa": {
      "model_module": "@jupyter-widgets/base",
      "model_module_version": "1.2.0",
      "model_name": "LayoutModel",
      "state": {
       "_model_module": "@jupyter-widgets/base",
       "_model_module_version": "1.2.0",
       "_model_name": "LayoutModel",
       "_view_count": null,
       "_view_module": "@jupyter-widgets/base",
       "_view_module_version": "1.2.0",
       "_view_name": "LayoutView",
       "align_content": null,
       "align_items": null,
       "align_self": null,
       "border": null,
       "bottom": null,
       "display": null,
       "flex": null,
       "flex_flow": null,
       "grid_area": null,
       "grid_auto_columns": null,
       "grid_auto_flow": null,
       "grid_auto_rows": null,
       "grid_column": null,
       "grid_gap": null,
       "grid_row": null,
       "grid_template_areas": null,
       "grid_template_columns": null,
       "grid_template_rows": null,
       "height": null,
       "justify_content": null,
       "justify_items": null,
       "left": null,
       "margin": null,
       "max_height": null,
       "max_width": null,
       "min_height": null,
       "min_width": null,
       "object_fit": null,
       "object_position": null,
       "order": null,
       "overflow": null,
       "overflow_x": null,
       "overflow_y": null,
       "padding": null,
       "right": null,
       "top": null,
       "visibility": null,
       "width": null
      }
     },
     "d9c14c8288b545259793d323ceb11376": {
      "model_module": "@jupyter-widgets/controls",
      "model_module_version": "1.5.0",
      "model_name": "DescriptionStyleModel",
      "state": {
       "_model_module": "@jupyter-widgets/controls",
       "_model_module_version": "1.5.0",
       "_model_name": "DescriptionStyleModel",
       "_view_count": null,
       "_view_module": "@jupyter-widgets/base",
       "_view_module_version": "1.2.0",
       "_view_name": "StyleView",
       "description_width": ""
      }
     },
     "da7a0cd47b7848e0988d235a4c808fa8": {
      "model_module": "@jupyter-widgets/controls",
      "model_module_version": "1.5.0",
      "model_name": "FloatProgressModel",
      "state": {
       "_dom_classes": [],
       "_model_module": "@jupyter-widgets/controls",
       "_model_module_version": "1.5.0",
       "_model_name": "FloatProgressModel",
       "_view_count": null,
       "_view_module": "@jupyter-widgets/controls",
       "_view_module_version": "1.5.0",
       "_view_name": "ProgressView",
       "bar_style": "success",
       "description": "",
       "description_tooltip": null,
       "layout": "IPY_MODEL_407d761ff9ea4d1daaf563d2b3816bac",
       "max": 28.0,
       "min": 0.0,
       "orientation": "horizontal",
       "style": "IPY_MODEL_8b050db8c4174b1bb69978c01a263aa6",
       "value": 28.0
      }
     },
     "dcf4860a631642e28c362cde4122c449": {
      "model_module": "@jupyter-widgets/base",
      "model_module_version": "1.2.0",
      "model_name": "LayoutModel",
      "state": {
       "_model_module": "@jupyter-widgets/base",
       "_model_module_version": "1.2.0",
       "_model_name": "LayoutModel",
       "_view_count": null,
       "_view_module": "@jupyter-widgets/base",
       "_view_module_version": "1.2.0",
       "_view_name": "LayoutView",
       "align_content": null,
       "align_items": null,
       "align_self": null,
       "border": null,
       "bottom": null,
       "display": null,
       "flex": null,
       "flex_flow": null,
       "grid_area": null,
       "grid_auto_columns": null,
       "grid_auto_flow": null,
       "grid_auto_rows": null,
       "grid_column": null,
       "grid_gap": null,
       "grid_row": null,
       "grid_template_areas": null,
       "grid_template_columns": null,
       "grid_template_rows": null,
       "height": null,
       "justify_content": null,
       "justify_items": null,
       "left": null,
       "margin": null,
       "max_height": null,
       "max_width": null,
       "min_height": null,
       "min_width": null,
       "object_fit": null,
       "object_position": null,
       "order": null,
       "overflow": null,
       "overflow_x": null,
       "overflow_y": null,
       "padding": null,
       "right": null,
       "top": null,
       "visibility": null,
       "width": null
      }
     },
     "e32e28be16174075b2451cb7a72483a6": {
      "model_module": "@jupyter-widgets/controls",
      "model_module_version": "1.5.0",
      "model_name": "DescriptionStyleModel",
      "state": {
       "_model_module": "@jupyter-widgets/controls",
       "_model_module_version": "1.5.0",
       "_model_name": "DescriptionStyleModel",
       "_view_count": null,
       "_view_module": "@jupyter-widgets/base",
       "_view_module_version": "1.2.0",
       "_view_name": "StyleView",
       "description_width": ""
      }
     },
     "e7b950f0a80245dbba49a512b346452d": {
      "model_module": "@jupyter-widgets/base",
      "model_module_version": "1.2.0",
      "model_name": "LayoutModel",
      "state": {
       "_model_module": "@jupyter-widgets/base",
       "_model_module_version": "1.2.0",
       "_model_name": "LayoutModel",
       "_view_count": null,
       "_view_module": "@jupyter-widgets/base",
       "_view_module_version": "1.2.0",
       "_view_name": "LayoutView",
       "align_content": null,
       "align_items": null,
       "align_self": null,
       "border": null,
       "bottom": null,
       "display": null,
       "flex": null,
       "flex_flow": null,
       "grid_area": null,
       "grid_auto_columns": null,
       "grid_auto_flow": null,
       "grid_auto_rows": null,
       "grid_column": null,
       "grid_gap": null,
       "grid_row": null,
       "grid_template_areas": null,
       "grid_template_columns": null,
       "grid_template_rows": null,
       "height": null,
       "justify_content": null,
       "justify_items": null,
       "left": null,
       "margin": null,
       "max_height": null,
       "max_width": null,
       "min_height": null,
       "min_width": null,
       "object_fit": null,
       "object_position": null,
       "order": null,
       "overflow": null,
       "overflow_x": null,
       "overflow_y": null,
       "padding": null,
       "right": null,
       "top": null,
       "visibility": null,
       "width": null
      }
     },
     "f8081a7438db41e7932f72eea21363c9": {
      "model_module": "@jupyter-widgets/controls",
      "model_module_version": "1.5.0",
      "model_name": "DescriptionStyleModel",
      "state": {
       "_model_module": "@jupyter-widgets/controls",
       "_model_module_version": "1.5.0",
       "_model_name": "DescriptionStyleModel",
       "_view_count": null,
       "_view_module": "@jupyter-widgets/base",
       "_view_module_version": "1.2.0",
       "_view_name": "StyleView",
       "description_width": ""
      }
     },
     "fe7f7bfd07c84e4dac299a1af8d3749f": {
      "model_module": "@jupyter-widgets/controls",
      "model_module_version": "1.5.0",
      "model_name": "HBoxModel",
      "state": {
       "_dom_classes": [],
       "_model_module": "@jupyter-widgets/controls",
       "_model_module_version": "1.5.0",
       "_model_name": "HBoxModel",
       "_view_count": null,
       "_view_module": "@jupyter-widgets/controls",
       "_view_module_version": "1.5.0",
       "_view_name": "HBoxView",
       "box_style": "",
       "children": [
        "IPY_MODEL_bf0cd6ef8c85401e84694e7b9d542181",
        "IPY_MODEL_998fa7870c724797ba4912c299fae882",
        "IPY_MODEL_55020898305c4515a5b4ac9232820a98"
       ],
       "layout": "IPY_MODEL_1ef045defad948679133a68926de5d51"
      }
     }
    },
    "version_major": 2,
    "version_minor": 0
   }
  }
 },
 "nbformat": 4,
 "nbformat_minor": 5
}
